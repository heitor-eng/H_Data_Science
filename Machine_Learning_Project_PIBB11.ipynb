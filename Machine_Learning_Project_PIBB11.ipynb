{
  "nbformat": 4,
  "nbformat_minor": 0,
  "metadata": {
    "colab": {
      "name": "Machine Learning Project - PIBB11",
      "provenance": [],
      "authorship_tag": "ABX9TyPaV3zpZhwSx2upXRIP76fI",
      "include_colab_link": true
    },
    "kernelspec": {
      "name": "python3",
      "display_name": "Python 3"
    },
    "language_info": {
      "name": "python"
    }
  },
  "cells": [
    {
      "cell_type": "markdown",
      "metadata": {
        "id": "view-in-github",
        "colab_type": "text"
      },
      "source": [
        "<a href=\"https://colab.research.google.com/github/heitor-eng/H_Data_Science/blob/master/Machine_Learning_Project_PIBB11.ipynb\" target=\"_parent\"><img src=\"https://colab.research.google.com/assets/colab-badge.svg\" alt=\"Open In Colab\"/></a>"
      ]
    },
    {
      "cell_type": "markdown",
      "source": [
        "# Predict the future price of the PIBB11 with Machine Learning\n",
        "This is a project which I am using the Linear Regression method to predict the future price of the ETF - PIBB11.\n",
        "\n",
        "\n",
        "\n",
        "###PIBB11\n",
        "It is an ETF (Exchange Trade Fund)- and as an ETF that seeks to reflect the performance, before fees and expenses, of the Brazil Index 50 (IBrX50).\n",
        "The IBrX50 is the average performance indicator of the 50 most traded and most representative assets in the Brazilian stock market. The index is the result of a theoretical asset portfolio, reformulated every four months. It is composed exclusively of shares and units. To be included in the IBrX50, the asset must be among the 50 most traded on B3 in the period of validity of the 3 previous portfolios. The assets must also have a presence in trading of 95% in the same period. From [Info Money](https://www.infomoney.com.br/cotacoes/etf-pibb11/).\n",
        "\n",
        "\n",
        "<p align=center>\n",
        "<img src=\"https://github.com/heitor-eng/H_Data_Science/blob/master/Imagens/stock-market-g69876065d_1920.jpg?raw=true\" width=\"50%\"></p>\n",
        "\n",
        "The dataset was take from the web page of [Yahoo Finance - PIBB11](https://br.financas.yahoo.com/quote/PIBB11.SA/history?p=PIBB11.SA&.tsrc=fin-srch)"
      ],
      "metadata": {
        "id": "-UAZr_ugwIlI"
      }
    },
    {
      "cell_type": "code",
      "execution_count": null,
      "metadata": {
        "id": "s0yKPfU6tHHU"
      },
      "outputs": [],
      "source": [
        "# Description: Predict the future price of the PIBB11"
      ]
    },
    {
      "cell_type": "code",
      "source": [
        "# Import the libraries\n",
        "import pandas as pd\n",
        "import numpy as np\n",
        "import matplotlib.pyplot as plt\n",
        "from sklearn.linear_model import LinearRegression\n",
        "from sklearn.metrics import r2_score\n",
        "plt.style.use('fivethirtyeight')"
      ],
      "metadata": {
        "id": "kAEAyy5Itd1H"
      },
      "execution_count": null,
      "outputs": []
    },
    {
      "cell_type": "code",
      "source": [
        "# Load the dataset\n",
        "from google.colab import files\n",
        "files.upload()"
      ],
      "metadata": {
        "id": "sGjqM5sgvtyY"
      },
      "execution_count": null,
      "outputs": []
    },
    {
      "cell_type": "code",
      "source": [
        "# Store the data\n",
        "df = pd.read_csv('PIBB11.SA.csv',index_col=\"Date\",parse_dates = True)\n",
        "\n",
        "# Show the data\n",
        "print('The number of rows: ',df.shape[0])\n",
        "print(\"And the columns are: \", df.shape[1])\n",
        "\n",
        "# The head of the dataset\n",
        "df.head()"
      ],
      "metadata": {
        "colab": {
          "base_uri": "https://localhost:8080/",
          "height": 272
        },
        "id": "_OTmL5Rhv_xT",
        "outputId": "11c5f1ee-583b-4037-9a03-4881508e5264"
      },
      "execution_count": null,
      "outputs": [
        {
          "output_type": "stream",
          "name": "stdout",
          "text": [
            "The number of rows:  248\n",
            "And the columns are:  6\n"
          ]
        },
        {
          "output_type": "execute_result",
          "data": {
            "text/html": [
              "\n",
              "  <div id=\"df-0528837f-edd6-4606-9b30-6d6e62d5e6ad\">\n",
              "    <div class=\"colab-df-container\">\n",
              "      <div>\n",
              "<style scoped>\n",
              "    .dataframe tbody tr th:only-of-type {\n",
              "        vertical-align: middle;\n",
              "    }\n",
              "\n",
              "    .dataframe tbody tr th {\n",
              "        vertical-align: top;\n",
              "    }\n",
              "\n",
              "    .dataframe thead th {\n",
              "        text-align: right;\n",
              "    }\n",
              "</style>\n",
              "<table border=\"1\" class=\"dataframe\">\n",
              "  <thead>\n",
              "    <tr style=\"text-align: right;\">\n",
              "      <th></th>\n",
              "      <th>Open</th>\n",
              "      <th>High</th>\n",
              "      <th>Low</th>\n",
              "      <th>Close</th>\n",
              "      <th>Adj Close</th>\n",
              "      <th>Volume</th>\n",
              "    </tr>\n",
              "    <tr>\n",
              "      <th>Date</th>\n",
              "      <th></th>\n",
              "      <th></th>\n",
              "      <th></th>\n",
              "      <th></th>\n",
              "      <th></th>\n",
              "      <th></th>\n",
              "    </tr>\n",
              "  </thead>\n",
              "  <tbody>\n",
              "    <tr>\n",
              "      <th>2021-01-04</th>\n",
              "      <td>204.699997</td>\n",
              "      <td>205.000000</td>\n",
              "      <td>202.199997</td>\n",
              "      <td>203.399994</td>\n",
              "      <td>203.399994</td>\n",
              "      <td>22025</td>\n",
              "    </tr>\n",
              "    <tr>\n",
              "      <th>2021-01-05</th>\n",
              "      <td>204.690002</td>\n",
              "      <td>205.309998</td>\n",
              "      <td>200.369995</td>\n",
              "      <td>204.830002</td>\n",
              "      <td>204.830002</td>\n",
              "      <td>46829</td>\n",
              "    </tr>\n",
              "    <tr>\n",
              "      <th>2021-01-06</th>\n",
              "      <td>203.979996</td>\n",
              "      <td>208.410004</td>\n",
              "      <td>203.979996</td>\n",
              "      <td>205.649994</td>\n",
              "      <td>205.649994</td>\n",
              "      <td>46981</td>\n",
              "    </tr>\n",
              "    <tr>\n",
              "      <th>2021-01-07</th>\n",
              "      <td>205.399994</td>\n",
              "      <td>212.929993</td>\n",
              "      <td>205.300003</td>\n",
              "      <td>212.440002</td>\n",
              "      <td>212.440002</td>\n",
              "      <td>13758</td>\n",
              "    </tr>\n",
              "    <tr>\n",
              "      <th>2021-01-08</th>\n",
              "      <td>212.399994</td>\n",
              "      <td>216.479996</td>\n",
              "      <td>211.820007</td>\n",
              "      <td>216.130005</td>\n",
              "      <td>216.130005</td>\n",
              "      <td>47005</td>\n",
              "    </tr>\n",
              "  </tbody>\n",
              "</table>\n",
              "</div>\n",
              "      <button class=\"colab-df-convert\" onclick=\"convertToInteractive('df-0528837f-edd6-4606-9b30-6d6e62d5e6ad')\"\n",
              "              title=\"Convert this dataframe to an interactive table.\"\n",
              "              style=\"display:none;\">\n",
              "        \n",
              "  <svg xmlns=\"http://www.w3.org/2000/svg\" height=\"24px\"viewBox=\"0 0 24 24\"\n",
              "       width=\"24px\">\n",
              "    <path d=\"M0 0h24v24H0V0z\" fill=\"none\"/>\n",
              "    <path d=\"M18.56 5.44l.94 2.06.94-2.06 2.06-.94-2.06-.94-.94-2.06-.94 2.06-2.06.94zm-11 1L8.5 8.5l.94-2.06 2.06-.94-2.06-.94L8.5 2.5l-.94 2.06-2.06.94zm10 10l.94 2.06.94-2.06 2.06-.94-2.06-.94-.94-2.06-.94 2.06-2.06.94z\"/><path d=\"M17.41 7.96l-1.37-1.37c-.4-.4-.92-.59-1.43-.59-.52 0-1.04.2-1.43.59L10.3 9.45l-7.72 7.72c-.78.78-.78 2.05 0 2.83L4 21.41c.39.39.9.59 1.41.59.51 0 1.02-.2 1.41-.59l7.78-7.78 2.81-2.81c.8-.78.8-2.07 0-2.86zM5.41 20L4 18.59l7.72-7.72 1.47 1.35L5.41 20z\"/>\n",
              "  </svg>\n",
              "      </button>\n",
              "      \n",
              "  <style>\n",
              "    .colab-df-container {\n",
              "      display:flex;\n",
              "      flex-wrap:wrap;\n",
              "      gap: 12px;\n",
              "    }\n",
              "\n",
              "    .colab-df-convert {\n",
              "      background-color: #E8F0FE;\n",
              "      border: none;\n",
              "      border-radius: 50%;\n",
              "      cursor: pointer;\n",
              "      display: none;\n",
              "      fill: #1967D2;\n",
              "      height: 32px;\n",
              "      padding: 0 0 0 0;\n",
              "      width: 32px;\n",
              "    }\n",
              "\n",
              "    .colab-df-convert:hover {\n",
              "      background-color: #E2EBFA;\n",
              "      box-shadow: 0px 1px 2px rgba(60, 64, 67, 0.3), 0px 1px 3px 1px rgba(60, 64, 67, 0.15);\n",
              "      fill: #174EA6;\n",
              "    }\n",
              "\n",
              "    [theme=dark] .colab-df-convert {\n",
              "      background-color: #3B4455;\n",
              "      fill: #D2E3FC;\n",
              "    }\n",
              "\n",
              "    [theme=dark] .colab-df-convert:hover {\n",
              "      background-color: #434B5C;\n",
              "      box-shadow: 0px 1px 3px 1px rgba(0, 0, 0, 0.15);\n",
              "      filter: drop-shadow(0px 1px 2px rgba(0, 0, 0, 0.3));\n",
              "      fill: #FFFFFF;\n",
              "    }\n",
              "  </style>\n",
              "\n",
              "      <script>\n",
              "        const buttonEl =\n",
              "          document.querySelector('#df-0528837f-edd6-4606-9b30-6d6e62d5e6ad button.colab-df-convert');\n",
              "        buttonEl.style.display =\n",
              "          google.colab.kernel.accessAllowed ? 'block' : 'none';\n",
              "\n",
              "        async function convertToInteractive(key) {\n",
              "          const element = document.querySelector('#df-0528837f-edd6-4606-9b30-6d6e62d5e6ad');\n",
              "          const dataTable =\n",
              "            await google.colab.kernel.invokeFunction('convertToInteractive',\n",
              "                                                     [key], {});\n",
              "          if (!dataTable) return;\n",
              "\n",
              "          const docLinkHtml = 'Like what you see? Visit the ' +\n",
              "            '<a target=\"_blank\" href=https://colab.research.google.com/notebooks/data_table.ipynb>data table notebook</a>'\n",
              "            + ' to learn more about interactive tables.';\n",
              "          element.innerHTML = '';\n",
              "          dataTable['output_type'] = 'display_data';\n",
              "          await google.colab.output.renderOutput(dataTable, element);\n",
              "          const docLink = document.createElement('div');\n",
              "          docLink.innerHTML = docLinkHtml;\n",
              "          element.appendChild(docLink);\n",
              "        }\n",
              "      </script>\n",
              "    </div>\n",
              "  </div>\n",
              "  "
            ],
            "text/plain": [
              "                  Open        High         Low       Close   Adj Close  Volume\n",
              "Date                                                                          \n",
              "2021-01-04  204.699997  205.000000  202.199997  203.399994  203.399994   22025\n",
              "2021-01-05  204.690002  205.309998  200.369995  204.830002  204.830002   46829\n",
              "2021-01-06  203.979996  208.410004  203.979996  205.649994  205.649994   46981\n",
              "2021-01-07  205.399994  212.929993  205.300003  212.440002  212.440002   13758\n",
              "2021-01-08  212.399994  216.479996  211.820007  216.130005  216.130005   47005"
            ]
          },
          "metadata": {},
          "execution_count": 3
        }
      ]
    },
    {
      "cell_type": "code",
      "source": [
        "df.dtypes"
      ],
      "metadata": {
        "colab": {
          "base_uri": "https://localhost:8080/"
        },
        "id": "AvBt3B_33958",
        "outputId": "1404ab42-5e3b-4dc4-d277-3f1f644a9a3a"
      },
      "execution_count": null,
      "outputs": [
        {
          "output_type": "execute_result",
          "data": {
            "text/plain": [
              "Open         float64\n",
              "High         float64\n",
              "Low          float64\n",
              "Close        float64\n",
              "Adj Close    float64\n",
              "Volume         int64\n",
              "dtype: object"
            ]
          },
          "metadata": {},
          "execution_count": 4
        }
      ]
    },
    {
      "cell_type": "markdown",
      "source": [
        "## Linear Regression\n",
        "\n",
        "Is one of the two most famous Machine Learning Algorithms which come under supervised learning techniques. Since this algorithm is supervised in nature hence this algorithm use labeled datasets to make the predictions.\n",
        "\n",
        "It is one of the most simple Machine learning algorithm that comes under Supervised Learning technique and used for solving regression problems.\n",
        "\n",
        "The goal of linear regression is to find the best fit line that can accurately predict the output for the continuous dependent variable. And it is used for predicting the continuous dependent variable with the help of independent variables, such as price, age, salary, etc.\n",
        "\n",
        "**Source**: [Javatpoint](https://www.javatpoint.com/linear-regression-vs-logistic-regression-in-machine-learning)"
      ],
      "metadata": {
        "id": "SRAmfuJNWpQx"
      }
    },
    {
      "cell_type": "code",
      "source": [
        "# Copy the dataframe\n",
        "df2 = df.copy()"
      ],
      "metadata": {
        "id": "DoPuuh1FTPtJ"
      },
      "execution_count": null,
      "outputs": []
    },
    {
      "cell_type": "code",
      "source": [
        "# Create a new column called \"Numbers\"  that ranges from 0 to the lenght of the data set\n",
        "df2[\"Numbers\"] = list(range(0,len(df2)))"
      ],
      "metadata": {
        "id": "tAp465JnThdX"
      },
      "execution_count": null,
      "outputs": []
    },
    {
      "cell_type": "code",
      "source": [
        "# Store the \"Numbers\" column into a variable called 'X' as an array\n",
        "X = np.array(df2[[\"Numbers\"]])"
      ],
      "metadata": {
        "id": "m1jlcvc-T1RE"
      },
      "execution_count": null,
      "outputs": []
    },
    {
      "cell_type": "markdown",
      "source": [
        "> This was just a step to be done, so now I can format the data properly to int into our model for training."
      ],
      "metadata": {
        "id": "ARbpkfseUHvw"
      }
    },
    {
      "cell_type": "code",
      "source": [
        "# Store the 'Close price as an array in a variable called 'y'\n",
        "y = df2['Close'].values"
      ],
      "metadata": {
        "id": "H5BwF5iuURSY"
      },
      "execution_count": null,
      "outputs": []
    },
    {
      "cell_type": "code",
      "source": [
        "# Create and train the model\n",
        "lin_model = LinearRegression().fit(X,y)"
      ],
      "metadata": {
        "id": "0HP2-HTeWdgD"
      },
      "execution_count": null,
      "outputs": []
    },
    {
      "cell_type": "markdown",
      "source": [
        "> `fit()` it is just another term for a train method."
      ],
      "metadata": {
        "id": "H2BK2TLRYsCQ"
      }
    },
    {
      "cell_type": "code",
      "source": [
        "print('Intercept:',lin_model.intercept_)\n",
        "print('Slope:',lin_model.coef_)"
      ],
      "metadata": {
        "colab": {
          "base_uri": "https://localhost:8080/"
        },
        "id": "SFT75dApY1rw",
        "outputId": "8cba3531-2842-4406-961a-19148cb4eed5"
      },
      "execution_count": null,
      "outputs": [
        {
          "output_type": "stream",
          "name": "stdout",
          "text": [
            "Intercept: 214.41431038253015\n",
            "Slope: [-0.10097724]\n"
          ]
        }
      ]
    },
    {
      "cell_type": "markdown",
      "source": [
        "Equation of the line:\n",
        "\n",
        "> $y = m.x +b$\n",
        "\n",
        "Where:\n",
        "\n",
        "* m : Slope of the line\n",
        "\n",
        "* b : Intercept of the line"
      ],
      "metadata": {
        "id": "yLvmPMJXKlT5"
      }
    },
    {
      "cell_type": "code",
      "source": [
        "# Prepare the data for visualization\n",
        "# get the predicted price from the model and store them into a variable called y_pred\n",
        "# Equation of the line y = m*x + b\n",
        "y_pred = lin_model.coef_ * X + lin_model.intercept_"
      ],
      "metadata": {
        "id": "ZpBwff8jMTEK"
      },
      "execution_count": null,
      "outputs": []
    },
    {
      "cell_type": "code",
      "source": [
        "# Store the predict values in a new column called Pred\n",
        "df2['Pred'] = y_pred"
      ],
      "metadata": {
        "id": "osmSpE7YNRZW"
      },
      "execution_count": null,
      "outputs": []
    },
    {
      "cell_type": "code",
      "source": [
        "# Plot the data\n",
        "fig, ax = plt.subplots(figsize =(9,6),dpi = 72)\n",
        "df2[\"Pred\"].plot()\n",
        "df2['Close'].plot()\n",
        "plt.title('Close Price History')\n",
        "\n",
        "plt.show()"
      ],
      "metadata": {
        "colab": {
          "base_uri": "https://localhost:8080/",
          "height": 392
        },
        "id": "LNFI3hRDNcsD",
        "outputId": "7cdb22dd-bd1d-4bea-c49f-b583398b2d1b"
      },
      "execution_count": null,
      "outputs": [
        {
          "output_type": "display_data",
          "data": {
            "image/png": "[encoded data removed]",
            "text/plain": [
              "<Figure size 648x432 with 1 Axes>"
            ]
          },
          "metadata": {
            "needs_background": "light"
          }
        }
      ]
    },
    {
      "cell_type": "markdown",
      "source": [
        "## First impression\n",
        "\n",
        "As the chart shows, the values of the column `df2['Close']` (red line) has high variance, so the performance of this model won't be that good.\n",
        "\n",
        "We can interpret that because the red line has a lot of points that had a good amount of distance from the blue line, which is the column `df2['Pred']` meaning a high variance."
      ],
      "metadata": {
        "id": "NamHHJ4QGYSP"
      }
    },
    {
      "cell_type": "markdown",
      "source": [
        "### R² (coefficiente of determination):\n",
        "\n",
        "The coefficiente of determination or R² score helps to show the model's goodness of fit or how well the model fits the data right the way.\n",
        "\n",
        "The R2 score is a very important metric that is used to evaluate the performance of a regression-based machine learning model. It is pronounced as R squared and is also known as the coefficient of determination. It works by measuring the amount of variance in the predictions explained by the dataset. Simply put, it is the difference between the samples in the dataset and the predictions made by the model.\n",
        "\n",
        "**Source**: [R² score](https://thecleverprogrammer.com/2021/06/22/r2-score-in-machine-learning/)"
      ],
      "metadata": {
        "id": "RPrJ1giMZ92t"
      }
    },
    {
      "cell_type": "code",
      "source": [
        "# How good is the model?\n",
        "r2_score(df2['Close'],df2['Pred'])"
      ],
      "metadata": {
        "colab": {
          "base_uri": "https://localhost:8080/"
        },
        "id": "ED7bmizTa0Tc",
        "outputId": "b3964d0f-1189-4e56-9ca7-cb74fa8855d3"
      },
      "execution_count": null,
      "outputs": [
        {
          "output_type": "execute_result",
          "data": {
            "text/plain": [
              "0.261502746749677"
            ]
          },
          "metadata": {},
          "execution_count": 15
        }
      ]
    },
    {
      "cell_type": "code",
      "source": [
        "# Show the possible price fot the nest day based on the model\n",
        "lin_model.coef_*len(df2) + 1 + lin_model.intercept_"
      ],
      "metadata": {
        "colab": {
          "base_uri": "https://localhost:8080/"
        },
        "id": "7KtS56iKbecL",
        "outputId": "d58640a7-9f23-4d0a-da36-41b8d3029ff6"
      },
      "execution_count": null,
      "outputs": [
        {
          "output_type": "execute_result",
          "data": {
            "text/plain": [
              "array([190.37195435])"
            ]
          },
          "metadata": {},
          "execution_count": 17
        }
      ]
    },
    {
      "cell_type": "markdown",
      "source": [
        "## Conclusion:\n",
        "So the model believes that the price of the PIBB11 for the day 02 of January of 2022 would be R$ 190,37.\n",
        "\n",
        "As the coefficient of determination shows is R² = 0,26, that means the performance of this model isn't good, so to predict the price of this ETF will be interesting to use another algorithm of machine learning."
      ],
      "metadata": {
        "id": "eF-_ZnmycEpe"
      }
    }
  ]
}