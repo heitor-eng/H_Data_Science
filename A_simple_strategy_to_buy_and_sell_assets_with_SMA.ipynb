{
  "nbformat": 4,
  "nbformat_minor": 0,
  "metadata": {
    "colab": {
      "name": "A simple strategy to buy and sell assets with SMA",
      "provenance": [],
      "authorship_tag": "ABX9TyOobg4p49ZaVBGnkUdU3RlQ",
      "include_colab_link": true
    },
    "kernelspec": {
      "name": "python3",
      "display_name": "Python 3"
    },
    "language_info": {
      "name": "python"
    }
  },
  "cells": [
    {
      "cell_type": "markdown",
      "metadata": {
        "id": "view-in-github",
        "colab_type": "text"
      },
      "source": [
        "<a href=\"https://colab.research.google.com/github/heitor-eng/H_Data_Science/blob/master/A_simple_strategy_to_buy_and_sell_assets_with_SMA.ipynb\" target=\"_parent\"><img src=\"https://colab.research.google.com/assets/colab-badge.svg\" alt=\"Open In Colab\"/></a>"
      ]
    },
    {
      "cell_type": "markdown",
      "metadata": {
        "id": "f6BA-zGozfl7"
      },
      "source": [
        "# A strategy to buy and sell assets with SMA\n",
        "In this notebook, I am showing a simple strategy to build a code to understand the changes in the prices of an asset in the stock market. The idea came from the [Computer Science Youtube Channel](https://www.youtube.com/c/ComputerSciencecompsci112358/playlists), in his channel, you will find a lot of good material to learn python and for free!\n",
        "\n",
        "The work here is about to show all the steps that I have made to get signals or tendencies of when I could buy and sell assets with the help of the simple moving average to try to make profits. Here I am using the **Close price**  of **PETR4**, and for more information about the company, you can find it at their own website [Petrobras](https://petrobras.com.br/pt/).\n",
        "\n",
        "<p align=center>\n",
        "<img src = \"https://github.com/heitor-eng/H_Data_Science/blob/master/Imagens/PTER4.png?raw=true\" width = \"50%\">\n",
        "</p>\n",
        "\n",
        "\n",
        "\n",
        "**Disclaimer**: The material in this article is purely for educational purposes and should not be considered professional investment advice. Invest at your discretion!\n",
        "\n",
        "The data for this work I got from [Yahoo Finance](https://br.financas.yahoo.com/quote/PETR4.SA/history/)"
      ]
    },
    {
      "cell_type": "code",
      "metadata": {
        "id": "1DJgmkJeICuW"
      },
      "source": [
        "# Description A simple moving average trading strategy using python"
      ],
      "execution_count": null,
      "outputs": []
    },
    {
      "cell_type": "code",
      "metadata": {
        "id": "Ska2pTewKUby"
      },
      "source": [
        "# Import the libararies\n",
        "import pandas as pd\n",
        "import numpy as np\n",
        "import matplotlib.pyplot as plt\n",
        "plt.style.use('fivethirtyeight')"
      ],
      "execution_count": 1,
      "outputs": []
    },
    {
      "cell_type": "code",
      "metadata": {
        "id": "3N8uKYleOC7V"
      },
      "source": [
        "# Upload the file PETR4\n",
        "from google.colab import files\n",
        "files.upload()"
      ],
      "execution_count": null,
      "outputs": []
    },
    {
      "cell_type": "markdown",
      "metadata": {
        "id": "YhDWO299Dxi4"
      },
      "source": [
        "> If you have any type of problem using the code above to upload the file, go to settings and enable the cookies."
      ]
    },
    {
      "cell_type": "code",
      "metadata": {
        "colab": {
          "base_uri": "https://localhost:8080/",
          "height": 241
        },
        "id": "WF17JjL3OuFz",
        "outputId": "bd8fdceb-5fb0-4000-b782-e7c1e2a05981"
      },
      "source": [
        "# Store the data\n",
        "df = pd.read_csv(\"PETR4.SA(2).csv\")\n",
        "\n",
        "# Save the date as the index\n",
        "df = df.set_index(pd.DatetimeIndex(df.Date.values))\n",
        "\n",
        "print('Number of rows: ',df.shape[0])\n",
        "print('Number of columns: ',df.shape[1])\n",
        "\n",
        "\n",
        "# Show the first five datas\n",
        "df.head()"
      ],
      "execution_count": 3,
      "outputs": [
        {
          "output_type": "stream",
          "name": "stdout",
          "text": [
            "Number of rows:  246\n",
            "Number of columns:  7\n"
          ]
        },
        {
          "output_type": "execute_result",
          "data": {
            "text/html": [
              "<div>\n",
              "<style scoped>\n",
              "    .dataframe tbody tr th:only-of-type {\n",
              "        vertical-align: middle;\n",
              "    }\n",
              "\n",
              "    .dataframe tbody tr th {\n",
              "        vertical-align: top;\n",
              "    }\n",
              "\n",
              "    .dataframe thead th {\n",
              "        text-align: right;\n",
              "    }\n",
              "</style>\n",
              "<table border=\"1\" class=\"dataframe\">\n",
              "  <thead>\n",
              "    <tr style=\"text-align: right;\">\n",
              "      <th></th>\n",
              "      <th>Date</th>\n",
              "      <th>Open</th>\n",
              "      <th>High</th>\n",
              "      <th>Low</th>\n",
              "      <th>Close</th>\n",
              "      <th>Adj Close</th>\n",
              "      <th>Volume</th>\n",
              "    </tr>\n",
              "  </thead>\n",
              "  <tbody>\n",
              "    <tr>\n",
              "      <th>2020-09-30</th>\n",
              "      <td>2020-09-30</td>\n",
              "      <td>19.500000</td>\n",
              "      <td>20.040001</td>\n",
              "      <td>19.430000</td>\n",
              "      <td>19.610001</td>\n",
              "      <td>17.905075</td>\n",
              "      <td>69505000.0</td>\n",
              "    </tr>\n",
              "    <tr>\n",
              "      <th>2020-10-01</th>\n",
              "      <td>2020-10-01</td>\n",
              "      <td>19.639999</td>\n",
              "      <td>20.059999</td>\n",
              "      <td>19.129999</td>\n",
              "      <td>19.850000</td>\n",
              "      <td>18.124210</td>\n",
              "      <td>77537300.0</td>\n",
              "    </tr>\n",
              "    <tr>\n",
              "      <th>2020-10-02</th>\n",
              "      <td>2020-10-02</td>\n",
              "      <td>19.730000</td>\n",
              "      <td>19.740000</td>\n",
              "      <td>19.020000</td>\n",
              "      <td>19.020000</td>\n",
              "      <td>17.366371</td>\n",
              "      <td>85306000.0</td>\n",
              "    </tr>\n",
              "    <tr>\n",
              "      <th>2020-10-05</th>\n",
              "      <td>2020-10-05</td>\n",
              "      <td>19.360001</td>\n",
              "      <td>20.160000</td>\n",
              "      <td>19.240000</td>\n",
              "      <td>20.030001</td>\n",
              "      <td>18.288561</td>\n",
              "      <td>73288500.0</td>\n",
              "    </tr>\n",
              "    <tr>\n",
              "      <th>2020-10-06</th>\n",
              "      <td>2020-10-06</td>\n",
              "      <td>20.469999</td>\n",
              "      <td>20.700001</td>\n",
              "      <td>19.930000</td>\n",
              "      <td>19.930000</td>\n",
              "      <td>18.197254</td>\n",
              "      <td>77064600.0</td>\n",
              "    </tr>\n",
              "  </tbody>\n",
              "</table>\n",
              "</div>"
            ],
            "text/plain": [
              "                  Date       Open       High  ...      Close  Adj Close      Volume\n",
              "2020-09-30  2020-09-30  19.500000  20.040001  ...  19.610001  17.905075  69505000.0\n",
              "2020-10-01  2020-10-01  19.639999  20.059999  ...  19.850000  18.124210  77537300.0\n",
              "2020-10-02  2020-10-02  19.730000  19.740000  ...  19.020000  17.366371  85306000.0\n",
              "2020-10-05  2020-10-05  19.360001  20.160000  ...  20.030001  18.288561  73288500.0\n",
              "2020-10-06  2020-10-06  20.469999  20.700001  ...  19.930000  18.197254  77064600.0\n",
              "\n",
              "[5 rows x 7 columns]"
            ]
          },
          "metadata": {},
          "execution_count": 3
        }
      ]
    },
    {
      "cell_type": "code",
      "metadata": {
        "colab": {
          "base_uri": "https://localhost:8080/"
        },
        "id": "ZnJn1eS36rhh",
        "outputId": "42526261-f390-44a7-b720-ec81921d2990"
      },
      "source": [
        "# Identifying the type of variables\n",
        "df.dtypes"
      ],
      "execution_count": 4,
      "outputs": [
        {
          "output_type": "execute_result",
          "data": {
            "text/plain": [
              "Date          object\n",
              "Open         float64\n",
              "High         float64\n",
              "Low          float64\n",
              "Close        float64\n",
              "Adj Close    float64\n",
              "Volume       float64\n",
              "dtype: object"
            ]
          },
          "metadata": {},
          "execution_count": 4
        }
      ]
    },
    {
      "cell_type": "markdown",
      "metadata": {
        "id": "_bUeVzjc9fwE"
      },
      "source": [
        "**Handling the Date column**\n",
        "\n",
        "The variable `Date` is like the type of object and this is a problem, and to solve that problem, I am going to use the method `to_datetime()` to change this variable to date time type. "
      ]
    },
    {
      "cell_type": "code",
      "metadata": {
        "id": "IUJBwhkJ7FYA"
      },
      "source": [
        "# Transform the column Date in Datetime type\n",
        "df.Date = pd.to_datetime(df.Date, format=\"%Y-%m-%d\")"
      ],
      "execution_count": 5,
      "outputs": []
    },
    {
      "cell_type": "code",
      "metadata": {
        "colab": {
          "base_uri": "https://localhost:8080/"
        },
        "id": "1Bk6nxpw9T99",
        "outputId": "8557cd83-d2f8-464e-e3d9-a62e2ddc93af"
      },
      "source": [
        "# Check\n",
        "df.Date"
      ],
      "execution_count": 6,
      "outputs": [
        {
          "output_type": "execute_result",
          "data": {
            "text/plain": [
              "2020-09-30   2020-09-30\n",
              "2020-10-01   2020-10-01\n",
              "2020-10-02   2020-10-02\n",
              "2020-10-05   2020-10-05\n",
              "2020-10-06   2020-10-06\n",
              "                ...    \n",
              "2021-09-23   2021-09-23\n",
              "2021-09-24   2021-09-24\n",
              "2021-09-27   2021-09-27\n",
              "2021-09-28   2021-09-28\n",
              "2021-09-29   2021-09-29\n",
              "Name: Date, Length: 246, dtype: datetime64[ns]"
            ]
          },
          "metadata": {},
          "execution_count": 6
        }
      ]
    },
    {
      "cell_type": "code",
      "metadata": {
        "colab": {
          "base_uri": "https://localhost:8080/",
          "height": 513
        },
        "id": "sEC19c_wRLye",
        "outputId": "d2adbecd-bd22-42e9-c45c-5ece614c56c0"
      },
      "source": [
        "# Plot the Close price column\n",
        "plt.figure(figsize=(16,8))\n",
        "plt.title(\"PETR4 - Close Price\")\n",
        "plt.plot(df.Date, df.Close)\n",
        "plt.xlabel('Months')\n",
        "plt.ylabel('Close Price - R$')\n",
        "plt.show()"
      ],
      "execution_count": 12,
      "outputs": [
        {
          "output_type": "display_data",
          "data": {
            "image/png": "[encoded data removed]",
            "text/plain": [
              "<Figure size 1152x576 with 1 Axes>"
            ]
          },
          "metadata": {
            "needs_background": "light"
          }
        }
      ]
    },
    {
      "cell_type": "markdown",
      "metadata": {
        "id": "mRN4qgHiWufS"
      },
      "source": [
        "## **Simple Moving Average - SMA**\n",
        "\n",
        "A simple moving average (SMA) is an arithmetic moving average calculated by adding recent prices and then dividing that figure by the number of time periods in the calculation average. We usually use the close price.\n",
        "\n",
        "* A simple moving average is a technical indicator that helps to understand if an asset price will continue to rise or not. \n",
        "\n",
        "$$SMA = \\frac{A_1 + A_2 + A_3 + ... + A_n}{n}$$\n",
        "\n",
        "**Where:**\n",
        "\n",
        "> **A** = The Close price of the asset at the period *n*\n",
        "\n",
        "> **n** = The number of total periods\n",
        "\n",
        "\n",
        "\n"
      ]
    },
    {
      "cell_type": "code",
      "metadata": {
        "id": "YRsYTU_3D9Nq"
      },
      "source": [
        "# Fuction to take the average price of the dataset\n",
        "# Simple Moving Average = SMA \n",
        "def SMA(data,period=30,column='Close'):\n",
        "  return data[column].rolling(window=period).mean()"
      ],
      "execution_count": 8,
      "outputs": []
    },
    {
      "cell_type": "code",
      "metadata": {
        "id": "JB2VpBj4EeqQ"
      },
      "source": [
        "# Build a new column to store the SMA data\n",
        "df[\"SMA30\"] = SMA(df)"
      ],
      "execution_count": 9,
      "outputs": []
    },
    {
      "cell_type": "code",
      "metadata": {
        "colab": {
          "base_uri": "https://localhost:8080/",
          "height": 424
        },
        "id": "OPBgNZh5E-jD",
        "outputId": "076bca87-11e0-49d9-9576-b015c0910219"
      },
      "source": [
        "# Show the data\n",
        "df"
      ],
      "execution_count": 10,
      "outputs": [
        {
          "output_type": "execute_result",
          "data": {
            "text/html": [
              "<div>\n",
              "<style scoped>\n",
              "    .dataframe tbody tr th:only-of-type {\n",
              "        vertical-align: middle;\n",
              "    }\n",
              "\n",
              "    .dataframe tbody tr th {\n",
              "        vertical-align: top;\n",
              "    }\n",
              "\n",
              "    .dataframe thead th {\n",
              "        text-align: right;\n",
              "    }\n",
              "</style>\n",
              "<table border=\"1\" class=\"dataframe\">\n",
              "  <thead>\n",
              "    <tr style=\"text-align: right;\">\n",
              "      <th></th>\n",
              "      <th>Date</th>\n",
              "      <th>Open</th>\n",
              "      <th>High</th>\n",
              "      <th>Low</th>\n",
              "      <th>Close</th>\n",
              "      <th>Adj Close</th>\n",
              "      <th>Volume</th>\n",
              "      <th>SMA30</th>\n",
              "    </tr>\n",
              "  </thead>\n",
              "  <tbody>\n",
              "    <tr>\n",
              "      <th>2020-09-30</th>\n",
              "      <td>2020-09-30</td>\n",
              "      <td>19.500000</td>\n",
              "      <td>20.040001</td>\n",
              "      <td>19.430000</td>\n",
              "      <td>19.610001</td>\n",
              "      <td>17.905075</td>\n",
              "      <td>69505000.0</td>\n",
              "      <td>NaN</td>\n",
              "    </tr>\n",
              "    <tr>\n",
              "      <th>2020-10-01</th>\n",
              "      <td>2020-10-01</td>\n",
              "      <td>19.639999</td>\n",
              "      <td>20.059999</td>\n",
              "      <td>19.129999</td>\n",
              "      <td>19.850000</td>\n",
              "      <td>18.124210</td>\n",
              "      <td>77537300.0</td>\n",
              "      <td>NaN</td>\n",
              "    </tr>\n",
              "    <tr>\n",
              "      <th>2020-10-02</th>\n",
              "      <td>2020-10-02</td>\n",
              "      <td>19.730000</td>\n",
              "      <td>19.740000</td>\n",
              "      <td>19.020000</td>\n",
              "      <td>19.020000</td>\n",
              "      <td>17.366371</td>\n",
              "      <td>85306000.0</td>\n",
              "      <td>NaN</td>\n",
              "    </tr>\n",
              "    <tr>\n",
              "      <th>2020-10-05</th>\n",
              "      <td>2020-10-05</td>\n",
              "      <td>19.360001</td>\n",
              "      <td>20.160000</td>\n",
              "      <td>19.240000</td>\n",
              "      <td>20.030001</td>\n",
              "      <td>18.288561</td>\n",
              "      <td>73288500.0</td>\n",
              "      <td>NaN</td>\n",
              "    </tr>\n",
              "    <tr>\n",
              "      <th>2020-10-06</th>\n",
              "      <td>2020-10-06</td>\n",
              "      <td>20.469999</td>\n",
              "      <td>20.700001</td>\n",
              "      <td>19.930000</td>\n",
              "      <td>19.930000</td>\n",
              "      <td>18.197254</td>\n",
              "      <td>77064600.0</td>\n",
              "      <td>NaN</td>\n",
              "    </tr>\n",
              "    <tr>\n",
              "      <th>...</th>\n",
              "      <td>...</td>\n",
              "      <td>...</td>\n",
              "      <td>...</td>\n",
              "      <td>...</td>\n",
              "      <td>...</td>\n",
              "      <td>...</td>\n",
              "      <td>...</td>\n",
              "      <td>...</td>\n",
              "    </tr>\n",
              "    <tr>\n",
              "      <th>2021-09-23</th>\n",
              "      <td>2021-09-23</td>\n",
              "      <td>25.950001</td>\n",
              "      <td>26.950001</td>\n",
              "      <td>25.910000</td>\n",
              "      <td>26.840000</td>\n",
              "      <td>26.840000</td>\n",
              "      <td>84480600.0</td>\n",
              "      <td>26.740333</td>\n",
              "    </tr>\n",
              "    <tr>\n",
              "      <th>2021-09-24</th>\n",
              "      <td>2021-09-24</td>\n",
              "      <td>26.549999</td>\n",
              "      <td>27.059999</td>\n",
              "      <td>26.469999</td>\n",
              "      <td>26.900000</td>\n",
              "      <td>26.900000</td>\n",
              "      <td>44821500.0</td>\n",
              "      <td>26.667000</td>\n",
              "    </tr>\n",
              "    <tr>\n",
              "      <th>2021-09-27</th>\n",
              "      <td>2021-09-27</td>\n",
              "      <td>27.139999</td>\n",
              "      <td>27.459999</td>\n",
              "      <td>26.500000</td>\n",
              "      <td>27.139999</td>\n",
              "      <td>27.139999</td>\n",
              "      <td>89178700.0</td>\n",
              "      <td>26.593333</td>\n",
              "    </tr>\n",
              "    <tr>\n",
              "      <th>2021-09-28</th>\n",
              "      <td>2021-09-28</td>\n",
              "      <td>27.190001</td>\n",
              "      <td>27.889999</td>\n",
              "      <td>26.719999</td>\n",
              "      <td>26.959999</td>\n",
              "      <td>26.959999</td>\n",
              "      <td>117874300.0</td>\n",
              "      <td>26.537333</td>\n",
              "    </tr>\n",
              "    <tr>\n",
              "      <th>2021-09-29</th>\n",
              "      <td>2021-09-29</td>\n",
              "      <td>27.209999</td>\n",
              "      <td>27.530001</td>\n",
              "      <td>26.820000</td>\n",
              "      <td>27.389999</td>\n",
              "      <td>27.389999</td>\n",
              "      <td>58554100.0</td>\n",
              "      <td>26.549333</td>\n",
              "    </tr>\n",
              "  </tbody>\n",
              "</table>\n",
              "<p>246 rows × 8 columns</p>\n",
              "</div>"
            ],
            "text/plain": [
              "                 Date       Open       High  ...  Adj Close       Volume      SMA30\n",
              "2020-09-30 2020-09-30  19.500000  20.040001  ...  17.905075   69505000.0        NaN\n",
              "2020-10-01 2020-10-01  19.639999  20.059999  ...  18.124210   77537300.0        NaN\n",
              "2020-10-02 2020-10-02  19.730000  19.740000  ...  17.366371   85306000.0        NaN\n",
              "2020-10-05 2020-10-05  19.360001  20.160000  ...  18.288561   73288500.0        NaN\n",
              "2020-10-06 2020-10-06  20.469999  20.700001  ...  18.197254   77064600.0        NaN\n",
              "...               ...        ...        ...  ...        ...          ...        ...\n",
              "2021-09-23 2021-09-23  25.950001  26.950001  ...  26.840000   84480600.0  26.740333\n",
              "2021-09-24 2021-09-24  26.549999  27.059999  ...  26.900000   44821500.0  26.667000\n",
              "2021-09-27 2021-09-27  27.139999  27.459999  ...  27.139999   89178700.0  26.593333\n",
              "2021-09-28 2021-09-28  27.190001  27.889999  ...  26.959999  117874300.0  26.537333\n",
              "2021-09-29 2021-09-29  27.209999  27.530001  ...  27.389999   58554100.0  26.549333\n",
              "\n",
              "[246 rows x 8 columns]"
            ]
          },
          "metadata": {},
          "execution_count": 10
        }
      ]
    },
    {
      "cell_type": "markdown",
      "metadata": {
        "id": "VExzbcq7XkoG"
      },
      "source": [
        "### **The strategy**\n",
        "\n",
        "The strategy is simple when the value of the simple moving average exceeds the value of the closing price, it is an indication of buying and that the stock is discounted! \n",
        "\n",
        "Now when the closing price is greater than the moving average value, what I'm going to do is sell the asset to make a profit on the transaction.\n",
        "\n",
        "And if neither of those two conditions happens, I'll just stick to the position I'm in at the moment.\n",
        "\n",
        "\n",
        "\n",
        "<p align=center>\n",
        "<img src = \"https://github.com/heitor-eng/H_Data_Science/blob/master/Imagens/risco.jpg?raw=true\" width = \"50%\">\n",
        "</p>\n"
      ]
    },
    {
      "cell_type": "code",
      "metadata": {
        "id": "2gXJUykpXfNL"
      },
      "source": [
        "# Strategey function\n",
        "def strategy(df):\n",
        "  buy = []\n",
        "  sell = []\n",
        "  flag = 0\n",
        "  buy_price = 0\n",
        "\n",
        "  for i in range(0,len(df)):\n",
        "\n",
        "    if df['SMA30'][i] > df['Close'][i] and flag == 0:\n",
        "     buy.append(df['Close'][i])\n",
        "     sell.append(np)\n",
        "     buy_price = df['Close'][i]\n",
        "     flag = 1\n",
        "    elif df['SMA30'][i] < df['Close'][i] and flag == 1 and buy_price < df['Close'][i]:\n",
        "     sell.append(df['Close'][i])\n",
        "     buy.append(np.nan)\n",
        "     buy_price = 0\n",
        "     flag = 0\n",
        "    else:\n",
        "     sell.append(np.nan)\n",
        "     buy.append(np.nan)\n",
        "\n",
        "  return (buy,sell)\n",
        "   \n"
      ],
      "execution_count": 11,
      "outputs": []
    },
    {
      "cell_type": "code",
      "metadata": {
        "id": "yYmKyG-elr3-"
      },
      "source": [
        "# Get the buy and sell list\n",
        "stra = strategy(df)\n",
        "df['Buy'] = stra[0]\n",
        "df['Sell'] = stra[1]"
      ],
      "execution_count": 13,
      "outputs": []
    },
    {
      "cell_type": "code",
      "metadata": {
        "colab": {
          "base_uri": "https://localhost:8080/"
        },
        "id": "yepMZl8CpoDm",
        "outputId": "92b6da0f-b2e1-4ad8-94f4-1d88a1c4d4d6"
      },
      "source": [
        "# The missing values\n",
        "(df.isnull().sum()/df.shape[0]).sort_values(ascending = False)"
      ],
      "execution_count": 14,
      "outputs": [
        {
          "output_type": "execute_result",
          "data": {
            "text/plain": [
              "Buy          0.975610\n",
              "Sell         0.951220\n",
              "SMA30        0.239837\n",
              "Volume       0.004065\n",
              "Adj Close    0.004065\n",
              "Close        0.004065\n",
              "Low          0.004065\n",
              "High         0.004065\n",
              "Open         0.004065\n",
              "Date         0.000000\n",
              "dtype: float64"
            ]
          },
          "metadata": {},
          "execution_count": 14
        }
      ]
    },
    {
      "cell_type": "code",
      "metadata": {
        "colab": {
          "base_uri": "https://localhost:8080/"
        },
        "id": "IwjCqsQ4wbk2",
        "outputId": "06f59481-8f61-4d3d-f3af-2fad7f4d99a0"
      },
      "source": [
        "# Type of the columns\n",
        "df.dtypes"
      ],
      "execution_count": 15,
      "outputs": [
        {
          "output_type": "execute_result",
          "data": {
            "text/plain": [
              "Date         datetime64[ns]\n",
              "Open                float64\n",
              "High                float64\n",
              "Low                 float64\n",
              "Close               float64\n",
              "Adj Close           float64\n",
              "Volume              float64\n",
              "SMA30               float64\n",
              "Buy                 float64\n",
              "Sell                 object\n",
              "dtype: object"
            ]
          },
          "metadata": {},
          "execution_count": 15
        }
      ]
    },
    {
      "cell_type": "markdown",
      "metadata": {
        "id": "0eD23HxvqkZ1"
      },
      "source": [
        "As we can see the  `Sell` column appears as an object type and to transform into float we have to user the `to_numeric` method, the documetation is acessable at [Pandas- to_numeric](https://pandas.pydata.org/pandas-docs/stable/reference/api/pandas.to_numeric.html?highlight=to_numeric#pandas.to_numeric) or in portugues [To_numeric](https://www.delftstack.com/pt/howto/python-pandas/pandas-convert-object-to-float/)"
      ]
    },
    {
      "cell_type": "code",
      "metadata": {
        "id": "_ql3eksbxF3O"
      },
      "source": [
        "# Converting the Sale column to float\n",
        "df['Sell'] = pd.to_numeric(df['Sell'],errors = 'coerce')"
      ],
      "execution_count": 16,
      "outputs": []
    },
    {
      "cell_type": "code",
      "metadata": {
        "colab": {
          "base_uri": "https://localhost:8080/"
        },
        "id": "wy-4UK8RrwGb",
        "outputId": "ec3ce670-99f2-4b09-937e-52420790e318"
      },
      "source": [
        "# Info about the DataFrame\n",
        "print(df.info())"
      ],
      "execution_count": 19,
      "outputs": [
        {
          "output_type": "stream",
          "name": "stdout",
          "text": [
            "<class 'pandas.core.frame.DataFrame'>\n",
            "DatetimeIndex: 246 entries, 2020-09-30 to 2021-09-29\n",
            "Data columns (total 10 columns):\n",
            " #   Column     Non-Null Count  Dtype         \n",
            "---  ------     --------------  -----         \n",
            " 0   Date       246 non-null    datetime64[ns]\n",
            " 1   Open       245 non-null    float64       \n",
            " 2   High       245 non-null    float64       \n",
            " 3   Low        245 non-null    float64       \n",
            " 4   Close      245 non-null    float64       \n",
            " 5   Adj Close  245 non-null    float64       \n",
            " 6   Volume     245 non-null    float64       \n",
            " 7   SMA30      187 non-null    float64       \n",
            " 8   Buy        6 non-null      float64       \n",
            " 9   Sell       6 non-null      float64       \n",
            "dtypes: datetime64[ns](1), float64(9)\n",
            "memory usage: 21.1 KB\n",
            "None\n"
          ]
        }
      ]
    },
    {
      "cell_type": "markdown",
      "metadata": {
        "id": "bzDYhIorB1WB"
      },
      "source": [
        "### Graph for the Buy & Sell signals\n"
      ]
    },
    {
      "cell_type": "code",
      "metadata": {
        "colab": {
          "base_uri": "https://localhost:8080/",
          "height": 513
        },
        "id": "lgREVVFLmct5",
        "outputId": "88dffbab-6d8b-4b05-be6b-83d5356ff462"
      },
      "source": [
        "# Visualize the close price and the the bull and sell signs\n",
        "plt.figure(figsize=(16,8))\n",
        "plt.title(\"PETR4 - Buy & Sell signals\")\n",
        "plt.plot(df['Close'], alpha = 0.5, label = \"Close\")\n",
        "plt.plot(df['SMA30'], alpha = 0.5, label = \"SMA 30\")\n",
        "plt.scatter(df.index, df['Buy'], color = 'green', label = \"Buy Signal\", marker = '^', alpha = 1)\n",
        "plt.scatter(df.index, df['Sell'], color = 'red', label = \"Sell Signal\", marker = 'v', alpha = 1)\n",
        "plt.xlabel('Time - Months')\n",
        "plt.ylabel('Close Prices - R$')\n",
        "plt.show()"
      ],
      "execution_count": 20,
      "outputs": [
        {
          "output_type": "display_data",
          "data": {
            "image/png": "[encoded data removed]",
            "text/plain": [
              "<Figure size 1152x576 with 1 Axes>"
            ]
          },
          "metadata": {
            "needs_background": "light"
          }
        }
      ]
    },
    {
      "cell_type": "markdown",
      "metadata": {
        "id": "9Yjs-ZBetU-6"
      },
      "source": [
        "### **Analysis of the Graphic**\n",
        "\n",
        "The strategy works great to generate some income, but as the graphic shows, we lost some opportunities to make money too!\n",
        "As we can see in the chart above, there are moments when the markets closing price continued to rise and I had already sold the position in the asset, that is, maybe it sold cheaply.\n",
        "\n",
        "\n",
        "---\n",
        "### **Conclusion**\n",
        "\n",
        "* The first is that the code works and the graph shows the entry and exit points if we follow the moving average.\n",
        "* The second is that relying solely on the moving average is not ideal when trying to optimize profit from trading."
      ]
    }
  ]
}