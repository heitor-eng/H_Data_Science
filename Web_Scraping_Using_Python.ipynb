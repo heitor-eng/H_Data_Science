{
  "nbformat": 4,
  "nbformat_minor": 0,
  "metadata": {
    "colab": {
      "name": "Web Scraping Using Python.ipynb",
      "provenance": [],
      "authorship_tag": "ABX9TyPKG6wrcE3CfgYqm3yQwgb/",
      "include_colab_link": true
    },
    "kernelspec": {
      "name": "python3",
      "display_name": "Python 3"
    },
    "language_info": {
      "name": "python"
    }
  },
  "cells": [
    {
      "cell_type": "markdown",
      "metadata": {
        "id": "view-in-github",
        "colab_type": "text"
      },
      "source": [
        "<a href=\"https://colab.research.google.com/github/heitor-eng/H_Data_Science/blob/master/Web_Scraping_Using_Python.ipynb\" target=\"_parent\"><img src=\"https://colab.research.google.com/assets/colab-badge.svg\" alt=\"Open In Colab\"/></a>"
      ]
    },
    {
      "cell_type": "markdown",
      "source": [
        "#Web Scrape\n",
        "\n",
        "##Gather the Top 10 Cryptocurrencies Data By Market Cap Using Python\n",
        "\n",
        "The tutorial you will find at the Youtube Channel of [Computer Science](https://www.youtube.com/watch?v=thHCp3TL6QE).\n",
        "\n",
        "Here, I am juts learning how to do the web scrape which you can learn in the video above.\n",
        "\n"
      ],
      "metadata": {
        "id": "G9EMLJ0IngwI"
      }
    },
    {
      "cell_type": "code",
      "execution_count": null,
      "metadata": {
        "id": "f2trrW_SnZjM"
      },
      "outputs": [],
      "source": [
        "# Description: Scrape the top 10 cryptocurrencies by market cap"
      ]
    },
    {
      "cell_type": "markdown",
      "source": [
        "<p align=center>\n",
        "<img src=\"https://github.com/heitor-eng/H_Data_Science/blob/1635e578ec4e2c785cf0e26663a670372f1afc0f/Imagens/pexels-worldspectrum-844124.jpg?raw=true\" width=\"50%\"></p>"
      ],
      "metadata": {
        "id": "BQ8EdB8R_0eu"
      }
    },
    {
      "cell_type": "code",
      "source": [
        "# Import the libraries\n",
        "import pandas as pd\n",
        "import requests\n",
        "from bs4 import BeautifulSoup"
      ],
      "metadata": {
        "id": "CizQtPc88Qmu"
      },
      "execution_count": null,
      "outputs": []
    },
    {
      "cell_type": "code",
      "source": [
        "# Creat empty lists to store the data\n",
        "crypto_name_list = []\n",
        "crypto_market_cap_list = []\n",
        "crypto_price_list = []\n",
        "crypto_circulating_supply_list = []\n",
        "crypto_symbol_list = []"
      ],
      "metadata": {
        "id": "Q6olu8Ti8cP5"
      },
      "execution_count": null,
      "outputs": []
    },
    {
      "cell_type": "code",
      "source": [
        "# Create an empty dataframe to help organize the data\n",
        "df = pd.DataFrame()"
      ],
      "metadata": {
        "id": "m9mY8-Wh8zuZ"
      },
      "execution_count": null,
      "outputs": []
    },
    {
      "cell_type": "markdown",
      "source": [
        "In this part its necessary to acess the web page [CoinMarketCap](https://coinmarketcap.com), and go to the historical data, through that use the data you want to scrape, for this projec I will be using for the date [19/12/2012](https://coinmarketcap.com/historical/20211219/)."
      ],
      "metadata": {
        "id": "sVF5hHl49Gsq"
      }
    },
    {
      "cell_type": "code",
      "source": [
        "# Create a function to scrape the data\n",
        "def scrape(date='20211219/'):\n",
        "  # Get theURL of the website that we want to scrape\n",
        "  URL = 'https://coinmarketcap.com/historical/'+date\n",
        "  # Make a request to the website\n",
        "  webpage = requests.get(URL)\n",
        "  # Parse the text from the website\n",
        "  soup = BeautifulSoup(webpage.text,'html.parser')\n",
        "\n",
        "  # Get the table row element\n",
        "  tr = soup.find_all('tr',attrs = {'class':'cmc-table-row'})\n",
        "  # Creat a count variable for the number of crypto currencies that I want to scrape\n",
        "  count = 0\n",
        "  # Loop through every row to gather the data/information\n",
        "  for row in tr:\n",
        "    # If the count is reached then break out of the loop\n",
        "    if count == 10:\n",
        "      break;\n",
        "    count = count + 1  # Increment count by 1\n",
        "\n",
        "    # Store the name of the cryptocurrency into a variable \n",
        "    # Find the 'td' element (or column) to later get the crypto currency name\n",
        "    name_column = row.find('td',attrs = {\"class\":\"cmc-table__cell cmc-table__cell--sticky cmc-table__cell--sortable cmc-table__cell--left cmc-table__cell--sort-by__name\"})\n",
        "    crypto_name = name_column.find('a',attrs={'class':'cmc-table__column-name--name cmc-link'}).text.strip()\n",
        "    # Store the coin market cap of the cryptocurrency or coin into a variable\n",
        "    crypto_market_cap = row.find('td', attrs = {'class':'cmc-table__cell cmc-table__cell--sortable cmc-table__cell--right cmc-table__cell--sort-by__market-cap'}).text.strip()\n",
        "    # Find and store the crypto price\n",
        "    crypto_price = row.find('td', attrs = {'class':'cmc-table__cell cmc-table__cell--sortable cmc-table__cell--right cmc-table__cell--sort-by__price'}).text.strip()\n",
        "    # Find and store the crypto supply and symbol\n",
        "    crypto_circulating_supply_and_symbol = row.find('td',attrs = {'class':'cmc-table__cell cmc-table__cell--sortable cmc-table__cell--right cmc-table__cell--sort-by__circulating-supply'}).text.strip()\n",
        "    # Split the data\n",
        "    crypto_circulating_supply = crypto_circulating_supply_and_symbol.split(\" \")[0]\n",
        "    crypto_symbol = crypto_circulating_supply_and_symbol.split(\" \")[1]\n",
        "\n",
        "    # Append the data to the list\n",
        "    crypto_name_list.append(crypto_name)\n",
        "    crypto_market_cap_list.append(crypto_market_cap)\n",
        "    crypto_price_list.append(crypto_price)\n",
        "    crypto_circulating_supply_list.append(crypto_circulating_supply)\n",
        "    crypto_symbol_list.append(crypto_symbol)\n"
      ],
      "metadata": {
        "id": "ccmDffi39FZ_"
      },
      "execution_count": null,
      "outputs": []
    },
    {
      "cell_type": "code",
      "source": [
        "# Run the scrape function\n",
        "scrape(date ='20211219/')"
      ],
      "metadata": {
        "id": "0BTV5aOkKL28"
      },
      "execution_count": null,
      "outputs": []
    },
    {
      "cell_type": "code",
      "source": [
        "# Store the data into a Dataframe to help organize the data\n",
        "df[\"Name\"] = crypto_name_list\n",
        "df['Market Cap'] = crypto_market_cap_list\n",
        "df[\"Price\"] = crypto_price_list\n",
        "df[\"Circulating Supply\"] = crypto_circulating_supply_list\n",
        "df[\"Symbol\"] = crypto_symbol_list"
      ],
      "metadata": {
        "id": "kXTl7l2NNX9W"
      },
      "execution_count": null,
      "outputs": []
    },
    {
      "cell_type": "code",
      "source": [
        "# Show the DataFrame\n",
        "df"
      ],
      "metadata": {
        "colab": {
          "base_uri": "https://localhost:8080/",
          "height": 363
        },
        "id": "K2BUA0gVN1eP",
        "outputId": "93da0792-d6d2-4ec5-d9a3-544881d8d5ab"
      },
      "execution_count": null,
      "outputs": [
        {
          "output_type": "execute_result",
          "data": {
            "text/html": [
              "\n",
              "  <div id=\"df-9001ecf9-9cfc-49d9-ae4a-751e37a2647b\">\n",
              "    <div class=\"colab-df-container\">\n",
              "      <div>\n",
              "<style scoped>\n",
              "    .dataframe tbody tr th:only-of-type {\n",
              "        vertical-align: middle;\n",
              "    }\n",
              "\n",
              "    .dataframe tbody tr th {\n",
              "        vertical-align: top;\n",
              "    }\n",
              "\n",
              "    .dataframe thead th {\n",
              "        text-align: right;\n",
              "    }\n",
              "</style>\n",
              "<table border=\"1\" class=\"dataframe\">\n",
              "  <thead>\n",
              "    <tr style=\"text-align: right;\">\n",
              "      <th></th>\n",
              "      <th>Name</th>\n",
              "      <th>Market Cap</th>\n",
              "      <th>Price</th>\n",
              "      <th>Circulating Supply</th>\n",
              "      <th>Symbol</th>\n",
              "    </tr>\n",
              "  </thead>\n",
              "  <tbody>\n",
              "    <tr>\n",
              "      <th>0</th>\n",
              "      <td>Bitcoin</td>\n",
              "      <td>$883,011,296,029.51</td>\n",
              "      <td>$46,707.01</td>\n",
              "      <td>18,905,325</td>\n",
              "      <td>BTC</td>\n",
              "    </tr>\n",
              "    <tr>\n",
              "      <th>1</th>\n",
              "      <td>Ethereum</td>\n",
              "      <td>$466,037,604,378.56</td>\n",
              "      <td>$3,922.59</td>\n",
              "      <td>118,808,565</td>\n",
              "      <td>ETH</td>\n",
              "    </tr>\n",
              "    <tr>\n",
              "      <th>2</th>\n",
              "      <td>Binance Coin</td>\n",
              "      <td>$88,399,940,789.77</td>\n",
              "      <td>$529.97</td>\n",
              "      <td>166,801,148</td>\n",
              "      <td>BNB</td>\n",
              "    </tr>\n",
              "    <tr>\n",
              "      <th>3</th>\n",
              "      <td>Tether</td>\n",
              "      <td>$76,288,982,077.53</td>\n",
              "      <td>$1</td>\n",
              "      <td>76,289,909,012</td>\n",
              "      <td>USDT</td>\n",
              "    </tr>\n",
              "    <tr>\n",
              "      <th>4</th>\n",
              "      <td>Solana</td>\n",
              "      <td>$55,490,684,848.85</td>\n",
              "      <td>$180.10</td>\n",
              "      <td>308,113,743</td>\n",
              "      <td>SOL</td>\n",
              "    </tr>\n",
              "    <tr>\n",
              "      <th>5</th>\n",
              "      <td>Cardano</td>\n",
              "      <td>$42,517,012,629.67</td>\n",
              "      <td>$1.24</td>\n",
              "      <td>34,159,510,418</td>\n",
              "      <td>ADA</td>\n",
              "    </tr>\n",
              "    <tr>\n",
              "      <th>6</th>\n",
              "      <td>USD Coin</td>\n",
              "      <td>$42,061,885,365.57</td>\n",
              "      <td>$0.9999</td>\n",
              "      <td>42,066,799,177</td>\n",
              "      <td>USDC</td>\n",
              "    </tr>\n",
              "    <tr>\n",
              "      <th>7</th>\n",
              "      <td>XRP</td>\n",
              "      <td>$39,453,059,810.78</td>\n",
              "      <td>$0.835</td>\n",
              "      <td>47,247,295,769</td>\n",
              "      <td>XRP</td>\n",
              "    </tr>\n",
              "    <tr>\n",
              "      <th>8</th>\n",
              "      <td>Terra</td>\n",
              "      <td>$29,259,639,594.93</td>\n",
              "      <td>$78.23</td>\n",
              "      <td>374,040,100</td>\n",
              "      <td>LUNA</td>\n",
              "    </tr>\n",
              "    <tr>\n",
              "      <th>9</th>\n",
              "      <td>Avalanche</td>\n",
              "      <td>$26,185,067,589.88</td>\n",
              "      <td>$107.67</td>\n",
              "      <td>243,188,891</td>\n",
              "      <td>AVAX</td>\n",
              "    </tr>\n",
              "  </tbody>\n",
              "</table>\n",
              "</div>\n",
              "      <button class=\"colab-df-convert\" onclick=\"convertToInteractive('df-9001ecf9-9cfc-49d9-ae4a-751e37a2647b')\"\n",
              "              title=\"Convert this dataframe to an interactive table.\"\n",
              "              style=\"display:none;\">\n",
              "        \n",
              "  <svg xmlns=\"http://www.w3.org/2000/svg\" height=\"24px\"viewBox=\"0 0 24 24\"\n",
              "       width=\"24px\">\n",
              "    <path d=\"M0 0h24v24H0V0z\" fill=\"none\"/>\n",
              "    <path d=\"M18.56 5.44l.94 2.06.94-2.06 2.06-.94-2.06-.94-.94-2.06-.94 2.06-2.06.94zm-11 1L8.5 8.5l.94-2.06 2.06-.94-2.06-.94L8.5 2.5l-.94 2.06-2.06.94zm10 10l.94 2.06.94-2.06 2.06-.94-2.06-.94-.94-2.06-.94 2.06-2.06.94z\"/><path d=\"M17.41 7.96l-1.37-1.37c-.4-.4-.92-.59-1.43-.59-.52 0-1.04.2-1.43.59L10.3 9.45l-7.72 7.72c-.78.78-.78 2.05 0 2.83L4 21.41c.39.39.9.59 1.41.59.51 0 1.02-.2 1.41-.59l7.78-7.78 2.81-2.81c.8-.78.8-2.07 0-2.86zM5.41 20L4 18.59l7.72-7.72 1.47 1.35L5.41 20z\"/>\n",
              "  </svg>\n",
              "      </button>\n",
              "      \n",
              "  <style>\n",
              "    .colab-df-container {\n",
              "      display:flex;\n",
              "      flex-wrap:wrap;\n",
              "      gap: 12px;\n",
              "    }\n",
              "\n",
              "    .colab-df-convert {\n",
              "      background-color: #E8F0FE;\n",
              "      border: none;\n",
              "      border-radius: 50%;\n",
              "      cursor: pointer;\n",
              "      display: none;\n",
              "      fill: #1967D2;\n",
              "      height: 32px;\n",
              "      padding: 0 0 0 0;\n",
              "      width: 32px;\n",
              "    }\n",
              "\n",
              "    .colab-df-convert:hover {\n",
              "      background-color: #E2EBFA;\n",
              "      box-shadow: 0px 1px 2px rgba(60, 64, 67, 0.3), 0px 1px 3px 1px rgba(60, 64, 67, 0.15);\n",
              "      fill: #174EA6;\n",
              "    }\n",
              "\n",
              "    [theme=dark] .colab-df-convert {\n",
              "      background-color: #3B4455;\n",
              "      fill: #D2E3FC;\n",
              "    }\n",
              "\n",
              "    [theme=dark] .colab-df-convert:hover {\n",
              "      background-color: #434B5C;\n",
              "      box-shadow: 0px 1px 3px 1px rgba(0, 0, 0, 0.15);\n",
              "      filter: drop-shadow(0px 1px 2px rgba(0, 0, 0, 0.3));\n",
              "      fill: #FFFFFF;\n",
              "    }\n",
              "  </style>\n",
              "\n",
              "      <script>\n",
              "        const buttonEl =\n",
              "          document.querySelector('#df-9001ecf9-9cfc-49d9-ae4a-751e37a2647b button.colab-df-convert');\n",
              "        buttonEl.style.display =\n",
              "          google.colab.kernel.accessAllowed ? 'block' : 'none';\n",
              "\n",
              "        async function convertToInteractive(key) {\n",
              "          const element = document.querySelector('#df-9001ecf9-9cfc-49d9-ae4a-751e37a2647b');\n",
              "          const dataTable =\n",
              "            await google.colab.kernel.invokeFunction('convertToInteractive',\n",
              "                                                     [key], {});\n",
              "          if (!dataTable) return;\n",
              "\n",
              "          const docLinkHtml = 'Like what you see? Visit the ' +\n",
              "            '<a target=\"_blank\" href=https://colab.research.google.com/notebooks/data_table.ipynb>data table notebook</a>'\n",
              "            + ' to learn more about interactive tables.';\n",
              "          element.innerHTML = '';\n",
              "          dataTable['output_type'] = 'display_data';\n",
              "          await google.colab.output.renderOutput(dataTable, element);\n",
              "          const docLink = document.createElement('div');\n",
              "          docLink.innerHTML = docLinkHtml;\n",
              "          element.appendChild(docLink);\n",
              "        }\n",
              "      </script>\n",
              "    </div>\n",
              "  </div>\n",
              "  "
            ],
            "text/plain": [
              "           Name           Market Cap       Price Circulating Supply Symbol\n",
              "0       Bitcoin  $883,011,296,029.51  $46,707.01         18,905,325    BTC\n",
              "1      Ethereum  $466,037,604,378.56   $3,922.59        118,808,565    ETH\n",
              "2  Binance Coin   $88,399,940,789.77     $529.97        166,801,148    BNB\n",
              "3        Tether   $76,288,982,077.53          $1     76,289,909,012   USDT\n",
              "4        Solana   $55,490,684,848.85     $180.10        308,113,743    SOL\n",
              "5       Cardano   $42,517,012,629.67       $1.24     34,159,510,418    ADA\n",
              "6      USD Coin   $42,061,885,365.57     $0.9999     42,066,799,177   USDC\n",
              "7           XRP   $39,453,059,810.78      $0.835     47,247,295,769    XRP\n",
              "8         Terra   $29,259,639,594.93      $78.23        374,040,100   LUNA\n",
              "9     Avalanche   $26,185,067,589.88     $107.67        243,188,891   AVAX"
            ]
          },
          "metadata": {},
          "execution_count": 22
        }
      ]
    }
  ]
}