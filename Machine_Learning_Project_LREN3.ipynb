{
  "nbformat": 4,
  "nbformat_minor": 0,
  "metadata": {
    "colab": {
      "name": "Machine Learning Project - LREN3",
      "provenance": [],
      "authorship_tag": "ABX9TyMVEKn+vD23yDd+UFdg0bVf",
      "include_colab_link": true
    },
    "kernelspec": {
      "name": "python3",
      "display_name": "Python 3"
    },
    "language_info": {
      "name": "python"
    }
  },
  "cells": [
    {
      "cell_type": "markdown",
      "metadata": {
        "id": "view-in-github",
        "colab_type": "text"
      },
      "source": [
        "<a href=\"https://colab.research.google.com/github/heitor-eng/H_Data_Science/blob/master/Machine_Learning_Project_LREN3.ipynb\" target=\"_parent\"><img src=\"https://colab.research.google.com/assets/colab-badge.svg\" alt=\"Open In Colab\"/></a>"
      ]
    },
    {
      "cell_type": "markdown",
      "source": [
        "# Predict the future price of the Lojas Renner S.A. (LREN3.SA) with Machine Learning\n",
        "\n",
        "---\n",
        "\n",
        "\n",
        "This is a project which I am using the Linear Regression method to predict the future price of the paper for Lojas Renner S.A. (LREN3.SA)\n",
        "\n",
        "\n",
        "\n",
        "###LREN3.SA\n",
        "\n",
        "\n",
        "\n",
        "<p align=center>\n",
        "<img src=\"https://github.com/heitor-eng/H_Data_Science/blob/master/Imagens/stock-market-g69876065d_1920.jpg?raw=true\" width=\"50%\"></p>\n",
        "\n",
        "The dataset was take from the web page of [Yahoo Finance - Lojas Renner S.A.](https://br.financas.yahoo.com/quote/LREN3.SA/history?p=LREN3.SA)"
      ],
      "metadata": {
        "id": "-UAZr_ugwIlI"
      }
    },
    {
      "cell_type": "code",
      "execution_count": null,
      "metadata": {
        "id": "s0yKPfU6tHHU"
      },
      "outputs": [],
      "source": [
        "# Description: Predict the future price of the LREN3.SA csv"
      ]
    },
    {
      "cell_type": "code",
      "source": [
        "# Import the libraries\n",
        "import pandas as pd\n",
        "import numpy as np\n",
        "import matplotlib.pyplot as plt\n",
        "from sklearn.linear_model import LinearRegression\n",
        "from sklearn.metrics import r2_score\n",
        "plt.style.use('fivethirtyeight')"
      ],
      "metadata": {
        "id": "kAEAyy5Itd1H"
      },
      "execution_count": null,
      "outputs": []
    },
    {
      "cell_type": "code",
      "source": [
        "# Load the dataset\n",
        "from google.colab import files\n",
        "files.upload()"
      ],
      "metadata": {
        "id": "sGjqM5sgvtyY"
      },
      "execution_count": null,
      "outputs": []
    },
    {
      "cell_type": "code",
      "source": [
        "# Store the data\n",
        "df = pd.read_csv('LREN3.SA.csv',index_col=\"Date\",parse_dates = True)\n",
        "\n",
        "# Show the data\n",
        "print('The number of rows: ',df.shape[0])\n",
        "print(\"And the columns are: \", df.shape[1])\n",
        "\n",
        "# The head of the dataset\n",
        "df.head()"
      ],
      "metadata": {
        "colab": {
          "base_uri": "https://localhost:8080/",
          "height": 272
        },
        "id": "_OTmL5Rhv_xT",
        "outputId": "c5266d4c-feaf-42b4-96e9-a89709063923"
      },
      "execution_count": null,
      "outputs": [
        {
          "output_type": "stream",
          "name": "stdout",
          "text": [
            "The number of rows:  249\n",
            "And the columns are:  6\n"
          ]
        },
        {
          "output_type": "execute_result",
          "data": {
            "text/plain": [
              "                 Open       High        Low      Close  Adj Close    Volume\n",
              "Date                                                                       \n",
              "2021-04-29  36.418182  37.072727  35.890907  36.336365  35.695343   8683620\n",
              "2021-04-30  36.727272  37.954544  36.218182  36.727272  36.118065  25368970\n",
              "2021-05-03  36.799999  37.672726  36.409088  37.272728  36.654472  15702500\n",
              "2021-05-04  37.327271  37.818180  36.809090  37.354546  36.734932  24260610\n",
              "2021-05-05  37.500000  38.918182  37.299999  37.627274  37.003139  15809530"
            ],
            "text/html": [
              "\n",
              "  <div id=\"df-2e23d6f5-5d12-4841-8727-2e1cc4bb75d8\">\n",
              "    <div class=\"colab-df-container\">\n",
              "      <div>\n",
              "<style scoped>\n",
              "    .dataframe tbody tr th:only-of-type {\n",
              "        vertical-align: middle;\n",
              "    }\n",
              "\n",
              "    .dataframe tbody tr th {\n",
              "        vertical-align: top;\n",
              "    }\n",
              "\n",
              "    .dataframe thead th {\n",
              "        text-align: right;\n",
              "    }\n",
              "</style>\n",
              "<table border=\"1\" class=\"dataframe\">\n",
              "  <thead>\n",
              "    <tr style=\"text-align: right;\">\n",
              "      <th></th>\n",
              "      <th>Open</th>\n",
              "      <th>High</th>\n",
              "      <th>Low</th>\n",
              "      <th>Close</th>\n",
              "      <th>Adj Close</th>\n",
              "      <th>Volume</th>\n",
              "    </tr>\n",
              "    <tr>\n",
              "      <th>Date</th>\n",
              "      <th></th>\n",
              "      <th></th>\n",
              "      <th></th>\n",
              "      <th></th>\n",
              "      <th></th>\n",
              "      <th></th>\n",
              "    </tr>\n",
              "  </thead>\n",
              "  <tbody>\n",
              "    <tr>\n",
              "      <th>2021-04-29</th>\n",
              "      <td>36.418182</td>\n",
              "      <td>37.072727</td>\n",
              "      <td>35.890907</td>\n",
              "      <td>36.336365</td>\n",
              "      <td>35.695343</td>\n",
              "      <td>8683620</td>\n",
              "    </tr>\n",
              "    <tr>\n",
              "      <th>2021-04-30</th>\n",
              "      <td>36.727272</td>\n",
              "      <td>37.954544</td>\n",
              "      <td>36.218182</td>\n",
              "      <td>36.727272</td>\n",
              "      <td>36.118065</td>\n",
              "      <td>25368970</td>\n",
              "    </tr>\n",
              "    <tr>\n",
              "      <th>2021-05-03</th>\n",
              "      <td>36.799999</td>\n",
              "      <td>37.672726</td>\n",
              "      <td>36.409088</td>\n",
              "      <td>37.272728</td>\n",
              "      <td>36.654472</td>\n",
              "      <td>15702500</td>\n",
              "    </tr>\n",
              "    <tr>\n",
              "      <th>2021-05-04</th>\n",
              "      <td>37.327271</td>\n",
              "      <td>37.818180</td>\n",
              "      <td>36.809090</td>\n",
              "      <td>37.354546</td>\n",
              "      <td>36.734932</td>\n",
              "      <td>24260610</td>\n",
              "    </tr>\n",
              "    <tr>\n",
              "      <th>2021-05-05</th>\n",
              "      <td>37.500000</td>\n",
              "      <td>38.918182</td>\n",
              "      <td>37.299999</td>\n",
              "      <td>37.627274</td>\n",
              "      <td>37.003139</td>\n",
              "      <td>15809530</td>\n",
              "    </tr>\n",
              "  </tbody>\n",
              "</table>\n",
              "</div>\n",
              "      <button class=\"colab-df-convert\" onclick=\"convertToInteractive('df-2e23d6f5-5d12-4841-8727-2e1cc4bb75d8')\"\n",
              "              title=\"Convert this dataframe to an interactive table.\"\n",
              "              style=\"display:none;\">\n",
              "        \n",
              "  <svg xmlns=\"http://www.w3.org/2000/svg\" height=\"24px\"viewBox=\"0 0 24 24\"\n",
              "       width=\"24px\">\n",
              "    <path d=\"M0 0h24v24H0V0z\" fill=\"none\"/>\n",
              "    <path d=\"M18.56 5.44l.94 2.06.94-2.06 2.06-.94-2.06-.94-.94-2.06-.94 2.06-2.06.94zm-11 1L8.5 8.5l.94-2.06 2.06-.94-2.06-.94L8.5 2.5l-.94 2.06-2.06.94zm10 10l.94 2.06.94-2.06 2.06-.94-2.06-.94-.94-2.06-.94 2.06-2.06.94z\"/><path d=\"M17.41 7.96l-1.37-1.37c-.4-.4-.92-.59-1.43-.59-.52 0-1.04.2-1.43.59L10.3 9.45l-7.72 7.72c-.78.78-.78 2.05 0 2.83L4 21.41c.39.39.9.59 1.41.59.51 0 1.02-.2 1.41-.59l7.78-7.78 2.81-2.81c.8-.78.8-2.07 0-2.86zM5.41 20L4 18.59l7.72-7.72 1.47 1.35L5.41 20z\"/>\n",
              "  </svg>\n",
              "      </button>\n",
              "      \n",
              "  <style>\n",
              "    .colab-df-container {\n",
              "      display:flex;\n",
              "      flex-wrap:wrap;\n",
              "      gap: 12px;\n",
              "    }\n",
              "\n",
              "    .colab-df-convert {\n",
              "      background-color: #E8F0FE;\n",
              "      border: none;\n",
              "      border-radius: 50%;\n",
              "      cursor: pointer;\n",
              "      display: none;\n",
              "      fill: #1967D2;\n",
              "      height: 32px;\n",
              "      padding: 0 0 0 0;\n",
              "      width: 32px;\n",
              "    }\n",
              "\n",
              "    .colab-df-convert:hover {\n",
              "      background-color: #E2EBFA;\n",
              "      box-shadow: 0px 1px 2px rgba(60, 64, 67, 0.3), 0px 1px 3px 1px rgba(60, 64, 67, 0.15);\n",
              "      fill: #174EA6;\n",
              "    }\n",
              "\n",
              "    [theme=dark] .colab-df-convert {\n",
              "      background-color: #3B4455;\n",
              "      fill: #D2E3FC;\n",
              "    }\n",
              "\n",
              "    [theme=dark] .colab-df-convert:hover {\n",
              "      background-color: #434B5C;\n",
              "      box-shadow: 0px 1px 3px 1px rgba(0, 0, 0, 0.15);\n",
              "      filter: drop-shadow(0px 1px 2px rgba(0, 0, 0, 0.3));\n",
              "      fill: #FFFFFF;\n",
              "    }\n",
              "  </style>\n",
              "\n",
              "      <script>\n",
              "        const buttonEl =\n",
              "          document.querySelector('#df-2e23d6f5-5d12-4841-8727-2e1cc4bb75d8 button.colab-df-convert');\n",
              "        buttonEl.style.display =\n",
              "          google.colab.kernel.accessAllowed ? 'block' : 'none';\n",
              "\n",
              "        async function convertToInteractive(key) {\n",
              "          const element = document.querySelector('#df-2e23d6f5-5d12-4841-8727-2e1cc4bb75d8');\n",
              "          const dataTable =\n",
              "            await google.colab.kernel.invokeFunction('convertToInteractive',\n",
              "                                                     [key], {});\n",
              "          if (!dataTable) return;\n",
              "\n",
              "          const docLinkHtml = 'Like what you see? Visit the ' +\n",
              "            '<a target=\"_blank\" href=https://colab.research.google.com/notebooks/data_table.ipynb>data table notebook</a>'\n",
              "            + ' to learn more about interactive tables.';\n",
              "          element.innerHTML = '';\n",
              "          dataTable['output_type'] = 'display_data';\n",
              "          await google.colab.output.renderOutput(dataTable, element);\n",
              "          const docLink = document.createElement('div');\n",
              "          docLink.innerHTML = docLinkHtml;\n",
              "          element.appendChild(docLink);\n",
              "        }\n",
              "      </script>\n",
              "    </div>\n",
              "  </div>\n",
              "  "
            ]
          },
          "metadata": {},
          "execution_count": 3
        }
      ]
    },
    {
      "cell_type": "code",
      "source": [
        "#the most recently datas\n",
        "df.tail(3)"
      ],
      "metadata": {
        "colab": {
          "base_uri": "https://localhost:8080/",
          "height": 175
        },
        "id": "fTsKtZPb3iIx",
        "outputId": "46098ce0-8f5c-46ae-e8f3-3b9a22ec794f"
      },
      "execution_count": null,
      "outputs": [
        {
          "output_type": "execute_result",
          "data": {
            "text/plain": [
              "                 Open   High    Low      Close  Adj Close    Volume\n",
              "Date                                                               \n",
              "2022-04-26  24.870001  25.75  24.27  24.459999  24.459999  15031700\n",
              "2022-04-27  24.900000  25.32  24.16  24.530001  24.530001  25730500\n",
              "2022-04-28   0.000000   0.00   0.00  24.389999  24.389999         0"
            ],
            "text/html": [
              "\n",
              "  <div id=\"df-d997aab4-acf6-4d86-b0c9-f80b336ebae5\">\n",
              "    <div class=\"colab-df-container\">\n",
              "      <div>\n",
              "<style scoped>\n",
              "    .dataframe tbody tr th:only-of-type {\n",
              "        vertical-align: middle;\n",
              "    }\n",
              "\n",
              "    .dataframe tbody tr th {\n",
              "        vertical-align: top;\n",
              "    }\n",
              "\n",
              "    .dataframe thead th {\n",
              "        text-align: right;\n",
              "    }\n",
              "</style>\n",
              "<table border=\"1\" class=\"dataframe\">\n",
              "  <thead>\n",
              "    <tr style=\"text-align: right;\">\n",
              "      <th></th>\n",
              "      <th>Open</th>\n",
              "      <th>High</th>\n",
              "      <th>Low</th>\n",
              "      <th>Close</th>\n",
              "      <th>Adj Close</th>\n",
              "      <th>Volume</th>\n",
              "    </tr>\n",
              "    <tr>\n",
              "      <th>Date</th>\n",
              "      <th></th>\n",
              "      <th></th>\n",
              "      <th></th>\n",
              "      <th></th>\n",
              "      <th></th>\n",
              "      <th></th>\n",
              "    </tr>\n",
              "  </thead>\n",
              "  <tbody>\n",
              "    <tr>\n",
              "      <th>2022-04-26</th>\n",
              "      <td>24.870001</td>\n",
              "      <td>25.75</td>\n",
              "      <td>24.27</td>\n",
              "      <td>24.459999</td>\n",
              "      <td>24.459999</td>\n",
              "      <td>15031700</td>\n",
              "    </tr>\n",
              "    <tr>\n",
              "      <th>2022-04-27</th>\n",
              "      <td>24.900000</td>\n",
              "      <td>25.32</td>\n",
              "      <td>24.16</td>\n",
              "      <td>24.530001</td>\n",
              "      <td>24.530001</td>\n",
              "      <td>25730500</td>\n",
              "    </tr>\n",
              "    <tr>\n",
              "      <th>2022-04-28</th>\n",
              "      <td>0.000000</td>\n",
              "      <td>0.00</td>\n",
              "      <td>0.00</td>\n",
              "      <td>24.389999</td>\n",
              "      <td>24.389999</td>\n",
              "      <td>0</td>\n",
              "    </tr>\n",
              "  </tbody>\n",
              "</table>\n",
              "</div>\n",
              "      <button class=\"colab-df-convert\" onclick=\"convertToInteractive('df-d997aab4-acf6-4d86-b0c9-f80b336ebae5')\"\n",
              "              title=\"Convert this dataframe to an interactive table.\"\n",
              "              style=\"display:none;\">\n",
              "        \n",
              "  <svg xmlns=\"http://www.w3.org/2000/svg\" height=\"24px\"viewBox=\"0 0 24 24\"\n",
              "       width=\"24px\">\n",
              "    <path d=\"M0 0h24v24H0V0z\" fill=\"none\"/>\n",
              "    <path d=\"M18.56 5.44l.94 2.06.94-2.06 2.06-.94-2.06-.94-.94-2.06-.94 2.06-2.06.94zm-11 1L8.5 8.5l.94-2.06 2.06-.94-2.06-.94L8.5 2.5l-.94 2.06-2.06.94zm10 10l.94 2.06.94-2.06 2.06-.94-2.06-.94-.94-2.06-.94 2.06-2.06.94z\"/><path d=\"M17.41 7.96l-1.37-1.37c-.4-.4-.92-.59-1.43-.59-.52 0-1.04.2-1.43.59L10.3 9.45l-7.72 7.72c-.78.78-.78 2.05 0 2.83L4 21.41c.39.39.9.59 1.41.59.51 0 1.02-.2 1.41-.59l7.78-7.78 2.81-2.81c.8-.78.8-2.07 0-2.86zM5.41 20L4 18.59l7.72-7.72 1.47 1.35L5.41 20z\"/>\n",
              "  </svg>\n",
              "      </button>\n",
              "      \n",
              "  <style>\n",
              "    .colab-df-container {\n",
              "      display:flex;\n",
              "      flex-wrap:wrap;\n",
              "      gap: 12px;\n",
              "    }\n",
              "\n",
              "    .colab-df-convert {\n",
              "      background-color: #E8F0FE;\n",
              "      border: none;\n",
              "      border-radius: 50%;\n",
              "      cursor: pointer;\n",
              "      display: none;\n",
              "      fill: #1967D2;\n",
              "      height: 32px;\n",
              "      padding: 0 0 0 0;\n",
              "      width: 32px;\n",
              "    }\n",
              "\n",
              "    .colab-df-convert:hover {\n",
              "      background-color: #E2EBFA;\n",
              "      box-shadow: 0px 1px 2px rgba(60, 64, 67, 0.3), 0px 1px 3px 1px rgba(60, 64, 67, 0.15);\n",
              "      fill: #174EA6;\n",
              "    }\n",
              "\n",
              "    [theme=dark] .colab-df-convert {\n",
              "      background-color: #3B4455;\n",
              "      fill: #D2E3FC;\n",
              "    }\n",
              "\n",
              "    [theme=dark] .colab-df-convert:hover {\n",
              "      background-color: #434B5C;\n",
              "      box-shadow: 0px 1px 3px 1px rgba(0, 0, 0, 0.15);\n",
              "      filter: drop-shadow(0px 1px 2px rgba(0, 0, 0, 0.3));\n",
              "      fill: #FFFFFF;\n",
              "    }\n",
              "  </style>\n",
              "\n",
              "      <script>\n",
              "        const buttonEl =\n",
              "          document.querySelector('#df-d997aab4-acf6-4d86-b0c9-f80b336ebae5 button.colab-df-convert');\n",
              "        buttonEl.style.display =\n",
              "          google.colab.kernel.accessAllowed ? 'block' : 'none';\n",
              "\n",
              "        async function convertToInteractive(key) {\n",
              "          const element = document.querySelector('#df-d997aab4-acf6-4d86-b0c9-f80b336ebae5');\n",
              "          const dataTable =\n",
              "            await google.colab.kernel.invokeFunction('convertToInteractive',\n",
              "                                                     [key], {});\n",
              "          if (!dataTable) return;\n",
              "\n",
              "          const docLinkHtml = 'Like what you see? Visit the ' +\n",
              "            '<a target=\"_blank\" href=https://colab.research.google.com/notebooks/data_table.ipynb>data table notebook</a>'\n",
              "            + ' to learn more about interactive tables.';\n",
              "          element.innerHTML = '';\n",
              "          dataTable['output_type'] = 'display_data';\n",
              "          await google.colab.output.renderOutput(dataTable, element);\n",
              "          const docLink = document.createElement('div');\n",
              "          docLink.innerHTML = docLinkHtml;\n",
              "          element.appendChild(docLink);\n",
              "        }\n",
              "      </script>\n",
              "    </div>\n",
              "  </div>\n",
              "  "
            ]
          },
          "metadata": {},
          "execution_count": 5
        }
      ]
    },
    {
      "cell_type": "code",
      "source": [
        "df.dtypes"
      ],
      "metadata": {
        "colab": {
          "base_uri": "https://localhost:8080/"
        },
        "id": "AvBt3B_33958",
        "outputId": "5f5bacc6-6a90-40ed-a536-8eaacc9a0aba"
      },
      "execution_count": null,
      "outputs": [
        {
          "output_type": "execute_result",
          "data": {
            "text/plain": [
              "Open         float64\n",
              "High         float64\n",
              "Low          float64\n",
              "Close        float64\n",
              "Adj Close    float64\n",
              "Volume         int64\n",
              "dtype: object"
            ]
          },
          "metadata": {},
          "execution_count": 12
        }
      ]
    },
    {
      "cell_type": "markdown",
      "source": [
        "## Linear Regression\n",
        "\n",
        "Is one of the two most famous Machine Learning Algorithms which come under supervised learning techniques. Since this algorithm is supervised in nature hence this algorithm use labeled datasets to make the predictions.\n",
        "\n",
        "It is one of the most simple Machine learning algorithm that comes under Supervised Learning technique and used for solving regression problems.\n",
        "\n",
        "The goal of linear regression is to find the best fit line that can accurately predict the output for the continuous dependent variable. And it is used for predicting the continuous dependent variable with the help of independent variables, such as price, age, salary, etc.\n",
        "\n",
        "**Source**: [Javatpoint](https://www.javatpoint.com/linear-regression-vs-logistic-regression-in-machine-learning)"
      ],
      "metadata": {
        "id": "SRAmfuJNWpQx"
      }
    },
    {
      "cell_type": "code",
      "source": [
        "# Copy the dataframe\n",
        "df2 = df.copy()"
      ],
      "metadata": {
        "id": "DoPuuh1FTPtJ"
      },
      "execution_count": null,
      "outputs": []
    },
    {
      "cell_type": "code",
      "source": [
        "# Create a new column called \"Numbers\"  that ranges from 0 to the lenght of the data set\n",
        "df2[\"Numbers\"] = list(range(0,len(df2)))"
      ],
      "metadata": {
        "id": "tAp465JnThdX"
      },
      "execution_count": null,
      "outputs": []
    },
    {
      "cell_type": "code",
      "source": [
        "# Store the \"Numbers\" column into a variable called 'X' as an array\n",
        "X = np.array(df2[[\"Numbers\"]])"
      ],
      "metadata": {
        "id": "m1jlcvc-T1RE"
      },
      "execution_count": null,
      "outputs": []
    },
    {
      "cell_type": "code",
      "source": [
        "df2.tail()"
      ],
      "metadata": {
        "colab": {
          "base_uri": "https://localhost:8080/",
          "height": 238
        },
        "id": "SvPxaPWU4Mwv",
        "outputId": "f649eed3-5fea-4bdd-8680-538d2a31fdec"
      },
      "execution_count": null,
      "outputs": [
        {
          "output_type": "execute_result",
          "data": {
            "text/plain": [
              "                 Open       High        Low      Close  Adj Close    Volume  \\\n",
              "Date                                                                          \n",
              "2022-04-22  25.400000  25.610001  24.700001  25.020000  25.020000  11626100   \n",
              "2022-04-25  24.670000  25.160000  24.320000  25.000000  25.000000  10646500   \n",
              "2022-04-26  24.870001  25.750000  24.270000  24.459999  24.459999  15031700   \n",
              "2022-04-27  24.900000  25.320000  24.160000  24.530001  24.530001  25730500   \n",
              "2022-04-28   0.000000   0.000000   0.000000  24.389999  24.389999         0   \n",
              "\n",
              "            Numbers  \n",
              "Date                 \n",
              "2022-04-22      244  \n",
              "2022-04-25      245  \n",
              "2022-04-26      246  \n",
              "2022-04-27      247  \n",
              "2022-04-28      248  "
            ],
            "text/html": [
              "\n",
              "  <div id=\"df-48f95652-ad7c-40ae-be9d-72804bb825f9\">\n",
              "    <div class=\"colab-df-container\">\n",
              "      <div>\n",
              "<style scoped>\n",
              "    .dataframe tbody tr th:only-of-type {\n",
              "        vertical-align: middle;\n",
              "    }\n",
              "\n",
              "    .dataframe tbody tr th {\n",
              "        vertical-align: top;\n",
              "    }\n",
              "\n",
              "    .dataframe thead th {\n",
              "        text-align: right;\n",
              "    }\n",
              "</style>\n",
              "<table border=\"1\" class=\"dataframe\">\n",
              "  <thead>\n",
              "    <tr style=\"text-align: right;\">\n",
              "      <th></th>\n",
              "      <th>Open</th>\n",
              "      <th>High</th>\n",
              "      <th>Low</th>\n",
              "      <th>Close</th>\n",
              "      <th>Adj Close</th>\n",
              "      <th>Volume</th>\n",
              "      <th>Numbers</th>\n",
              "    </tr>\n",
              "    <tr>\n",
              "      <th>Date</th>\n",
              "      <th></th>\n",
              "      <th></th>\n",
              "      <th></th>\n",
              "      <th></th>\n",
              "      <th></th>\n",
              "      <th></th>\n",
              "      <th></th>\n",
              "    </tr>\n",
              "  </thead>\n",
              "  <tbody>\n",
              "    <tr>\n",
              "      <th>2022-04-22</th>\n",
              "      <td>25.400000</td>\n",
              "      <td>25.610001</td>\n",
              "      <td>24.700001</td>\n",
              "      <td>25.020000</td>\n",
              "      <td>25.020000</td>\n",
              "      <td>11626100</td>\n",
              "      <td>244</td>\n",
              "    </tr>\n",
              "    <tr>\n",
              "      <th>2022-04-25</th>\n",
              "      <td>24.670000</td>\n",
              "      <td>25.160000</td>\n",
              "      <td>24.320000</td>\n",
              "      <td>25.000000</td>\n",
              "      <td>25.000000</td>\n",
              "      <td>10646500</td>\n",
              "      <td>245</td>\n",
              "    </tr>\n",
              "    <tr>\n",
              "      <th>2022-04-26</th>\n",
              "      <td>24.870001</td>\n",
              "      <td>25.750000</td>\n",
              "      <td>24.270000</td>\n",
              "      <td>24.459999</td>\n",
              "      <td>24.459999</td>\n",
              "      <td>15031700</td>\n",
              "      <td>246</td>\n",
              "    </tr>\n",
              "    <tr>\n",
              "      <th>2022-04-27</th>\n",
              "      <td>24.900000</td>\n",
              "      <td>25.320000</td>\n",
              "      <td>24.160000</td>\n",
              "      <td>24.530001</td>\n",
              "      <td>24.530001</td>\n",
              "      <td>25730500</td>\n",
              "      <td>247</td>\n",
              "    </tr>\n",
              "    <tr>\n",
              "      <th>2022-04-28</th>\n",
              "      <td>0.000000</td>\n",
              "      <td>0.000000</td>\n",
              "      <td>0.000000</td>\n",
              "      <td>24.389999</td>\n",
              "      <td>24.389999</td>\n",
              "      <td>0</td>\n",
              "      <td>248</td>\n",
              "    </tr>\n",
              "  </tbody>\n",
              "</table>\n",
              "</div>\n",
              "      <button class=\"colab-df-convert\" onclick=\"convertToInteractive('df-48f95652-ad7c-40ae-be9d-72804bb825f9')\"\n",
              "              title=\"Convert this dataframe to an interactive table.\"\n",
              "              style=\"display:none;\">\n",
              "        \n",
              "  <svg xmlns=\"http://www.w3.org/2000/svg\" height=\"24px\"viewBox=\"0 0 24 24\"\n",
              "       width=\"24px\">\n",
              "    <path d=\"M0 0h24v24H0V0z\" fill=\"none\"/>\n",
              "    <path d=\"M18.56 5.44l.94 2.06.94-2.06 2.06-.94-2.06-.94-.94-2.06-.94 2.06-2.06.94zm-11 1L8.5 8.5l.94-2.06 2.06-.94-2.06-.94L8.5 2.5l-.94 2.06-2.06.94zm10 10l.94 2.06.94-2.06 2.06-.94-2.06-.94-.94-2.06-.94 2.06-2.06.94z\"/><path d=\"M17.41 7.96l-1.37-1.37c-.4-.4-.92-.59-1.43-.59-.52 0-1.04.2-1.43.59L10.3 9.45l-7.72 7.72c-.78.78-.78 2.05 0 2.83L4 21.41c.39.39.9.59 1.41.59.51 0 1.02-.2 1.41-.59l7.78-7.78 2.81-2.81c.8-.78.8-2.07 0-2.86zM5.41 20L4 18.59l7.72-7.72 1.47 1.35L5.41 20z\"/>\n",
              "  </svg>\n",
              "      </button>\n",
              "      \n",
              "  <style>\n",
              "    .colab-df-container {\n",
              "      display:flex;\n",
              "      flex-wrap:wrap;\n",
              "      gap: 12px;\n",
              "    }\n",
              "\n",
              "    .colab-df-convert {\n",
              "      background-color: #E8F0FE;\n",
              "      border: none;\n",
              "      border-radius: 50%;\n",
              "      cursor: pointer;\n",
              "      display: none;\n",
              "      fill: #1967D2;\n",
              "      height: 32px;\n",
              "      padding: 0 0 0 0;\n",
              "      width: 32px;\n",
              "    }\n",
              "\n",
              "    .colab-df-convert:hover {\n",
              "      background-color: #E2EBFA;\n",
              "      box-shadow: 0px 1px 2px rgba(60, 64, 67, 0.3), 0px 1px 3px 1px rgba(60, 64, 67, 0.15);\n",
              "      fill: #174EA6;\n",
              "    }\n",
              "\n",
              "    [theme=dark] .colab-df-convert {\n",
              "      background-color: #3B4455;\n",
              "      fill: #D2E3FC;\n",
              "    }\n",
              "\n",
              "    [theme=dark] .colab-df-convert:hover {\n",
              "      background-color: #434B5C;\n",
              "      box-shadow: 0px 1px 3px 1px rgba(0, 0, 0, 0.15);\n",
              "      filter: drop-shadow(0px 1px 2px rgba(0, 0, 0, 0.3));\n",
              "      fill: #FFFFFF;\n",
              "    }\n",
              "  </style>\n",
              "\n",
              "      <script>\n",
              "        const buttonEl =\n",
              "          document.querySelector('#df-48f95652-ad7c-40ae-be9d-72804bb825f9 button.colab-df-convert');\n",
              "        buttonEl.style.display =\n",
              "          google.colab.kernel.accessAllowed ? 'block' : 'none';\n",
              "\n",
              "        async function convertToInteractive(key) {\n",
              "          const element = document.querySelector('#df-48f95652-ad7c-40ae-be9d-72804bb825f9');\n",
              "          const dataTable =\n",
              "            await google.colab.kernel.invokeFunction('convertToInteractive',\n",
              "                                                     [key], {});\n",
              "          if (!dataTable) return;\n",
              "\n",
              "          const docLinkHtml = 'Like what you see? Visit the ' +\n",
              "            '<a target=\"_blank\" href=https://colab.research.google.com/notebooks/data_table.ipynb>data table notebook</a>'\n",
              "            + ' to learn more about interactive tables.';\n",
              "          element.innerHTML = '';\n",
              "          dataTable['output_type'] = 'display_data';\n",
              "          await google.colab.output.renderOutput(dataTable, element);\n",
              "          const docLink = document.createElement('div');\n",
              "          docLink.innerHTML = docLinkHtml;\n",
              "          element.appendChild(docLink);\n",
              "        }\n",
              "      </script>\n",
              "    </div>\n",
              "  </div>\n",
              "  "
            ]
          },
          "metadata": {},
          "execution_count": 18
        }
      ]
    },
    {
      "cell_type": "markdown",
      "source": [
        "> This was just a step to be done, so now I can format the data properly to int into our model for training."
      ],
      "metadata": {
        "id": "ARbpkfseUHvw"
      }
    },
    {
      "cell_type": "code",
      "source": [
        "# Store the 'Close' price as an array in a variable called 'y'\n",
        "y = df2['Close'].values"
      ],
      "metadata": {
        "id": "H5BwF5iuURSY"
      },
      "execution_count": null,
      "outputs": []
    },
    {
      "cell_type": "code",
      "source": [
        "# Create and train the model\n",
        "lin_model = LinearRegression().fit(X,y)"
      ],
      "metadata": {
        "id": "0HP2-HTeWdgD"
      },
      "execution_count": null,
      "outputs": []
    },
    {
      "cell_type": "markdown",
      "source": [
        "> `fit()` it is just another term for a train method."
      ],
      "metadata": {
        "id": "H2BK2TLRYsCQ"
      }
    },
    {
      "cell_type": "code",
      "source": [
        "print('Intercept:',lin_model.intercept_)\n",
        "print('Slope:',lin_model.coef_)"
      ],
      "metadata": {
        "colab": {
          "base_uri": "https://localhost:8080/"
        },
        "id": "SFT75dApY1rw",
        "outputId": "db6f9e65-65d5-4e24-cb61-aa2955ce7486"
      },
      "execution_count": null,
      "outputs": [
        {
          "output_type": "stream",
          "name": "stdout",
          "text": [
            "Intercept: 42.02249879431325\n",
            "Slope: [-0.08074416]\n"
          ]
        }
      ]
    },
    {
      "cell_type": "markdown",
      "source": [
        "Equation of the line:\n",
        "\n",
        "> $y = m.x +b$\n",
        "\n",
        "Where:\n",
        "\n",
        "* m : Slope of the line\n",
        "\n",
        "* b : Intercept of the line"
      ],
      "metadata": {
        "id": "yLvmPMJXKlT5"
      }
    },
    {
      "cell_type": "code",
      "source": [
        "# Prepare the data for visualization\n",
        "# get the predicted price from the model and store them into a variable called y_pred\n",
        "# Equation of the line y = m*x + b\n",
        "y_pred = lin_model.coef_ * X + lin_model.intercept_"
      ],
      "metadata": {
        "id": "ZpBwff8jMTEK"
      },
      "execution_count": null,
      "outputs": []
    },
    {
      "cell_type": "code",
      "source": [
        "# Store the predict values in a new column called Pred\n",
        "df2['Pred'] = y_pred"
      ],
      "metadata": {
        "id": "osmSpE7YNRZW"
      },
      "execution_count": null,
      "outputs": []
    },
    {
      "cell_type": "code",
      "source": [
        "# Plot the data\n",
        "fig, ax = plt.subplots(figsize =(9,6),dpi = 72)\n",
        "df2[\"Pred\"].plot()\n",
        "df2['Close'].plot()\n",
        "plt.title('Close Price History')\n",
        "\n",
        "plt.show()"
      ],
      "metadata": {
        "colab": {
          "base_uri": "https://localhost:8080/",
          "height": 392
        },
        "id": "LNFI3hRDNcsD",
        "outputId": "3821a4e4-808f-4350-c773-e4830dfae47e"
      },
      "execution_count": null,
      "outputs": [
        {
          "output_type": "display_data",
          "data": {
            "text/plain": [
              "<Figure size 648x432 with 1 Axes>"
            ],
            "image/png": "[encoded data removed]"
          },
          "metadata": {
            "needs_background": "light"
          }
        }
      ]
    },
    {
      "cell_type": "markdown",
      "source": [
        "## First impression\n",
        "\n",
        "As the chart shows, the values of the column `df2['Close']` (red line) has high variance and the reason for that is the variantion of the price, maybe some news and the results of the company.\n",
        "\n",
        "We can interpret that because the red line has a lot of points that had a good amount of distance from the blue line, which is the column `df2['Pred']` meaning a high variance. To determine if the result is good or bad, we have the metrics of the model, these metrics help us to see the performance of the model and for each type of machine learning model or algorithm we have the metrics whose is better to show the accuracy of the model. "
      ],
      "metadata": {
        "id": "NamHHJ4QGYSP"
      }
    },
    {
      "cell_type": "markdown",
      "source": [
        "### R² (coefficiente of determination):\n",
        "\n",
        "The coefficiente of determination or R² score helps to show the model's goodness of fit or how well the model fits the data right the way.\n",
        "\n",
        "The R2 score is a very important metric that is used to evaluate the performance of a regression-based machine learning model. It is pronounced as R squared and is also known as the coefficient of determination. It works by measuring the amount of variance in the predictions explained by the dataset. Simply put, it is the difference between the samples in the dataset and the predictions made by the model.\n",
        "\n",
        "**Source**: [R² score](https://thecleverprogrammer.com/2021/06/22/r2-score-in-machine-learning/)"
      ],
      "metadata": {
        "id": "RPrJ1giMZ92t"
      }
    },
    {
      "cell_type": "code",
      "source": [
        "# How good is the model?\n",
        "r2_score(df2['Close'],df2['Pred'])"
      ],
      "metadata": {
        "colab": {
          "base_uri": "https://localhost:8080/"
        },
        "id": "ED7bmizTa0Tc",
        "outputId": "9e47f2b4-6dff-4ed6-f210-21a1f1a1fe28"
      },
      "execution_count": null,
      "outputs": [
        {
          "output_type": "execute_result",
          "data": {
            "text/plain": [
              "0.8483346350287609"
            ]
          },
          "metadata": {},
          "execution_count": 27
        }
      ]
    },
    {
      "cell_type": "code",
      "source": [
        "# Show the possible price fot the nest day based on the model\n",
        "lin_model.coef_*len(df2) + 1 + lin_model.intercept_"
      ],
      "metadata": {
        "colab": {
          "base_uri": "https://localhost:8080/"
        },
        "id": "7KtS56iKbecL",
        "outputId": "ae89e5e8-d297-454d-b2ca-3b1b580354e0"
      },
      "execution_count": null,
      "outputs": [
        {
          "output_type": "execute_result",
          "data": {
            "text/plain": [
              "array([22.91720179])"
            ]
          },
          "metadata": {},
          "execution_count": 28
        }
      ]
    },
    {
      "cell_type": "markdown",
      "source": [
        "## Conclusion:\n",
        "\n",
        "The model works pretty well, as the `r2_score` result, shows the model as an 84% of probability being right at the future price of the stock LRN3. \n"
      ],
      "metadata": {
        "id": "eF-_ZnmycEpe"
      }
    }
  ]
}