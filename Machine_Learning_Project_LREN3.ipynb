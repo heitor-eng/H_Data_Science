{
  "nbformat": 4,
  "nbformat_minor": 0,
  "metadata": {
    "colab": {
      "name": "Machine Learning Project - LREN3",
      "provenance": [],
      "authorship_tag": "ABX9TyMVEKn+vD23yDd+UFdg0bVf",
      "include_colab_link": true
    },
    "kernelspec": {
      "name": "python3",
      "display_name": "Python 3"
    },
    "language_info": {
      "name": "python"
    }
  },
  "cells": [
    {
      "cell_type": "markdown",
      "metadata": {
        "id": "view-in-github",
        "colab_type": "text"
      },
      "source": [
        "<a href=\"https://colab.research.google.com/github/heitor-eng/H_Data_Science/blob/master/Machine_Learning_Project_LREN3.ipynb\" target=\"_parent\"><img src=\"https://colab.research.google.com/assets/colab-badge.svg\" alt=\"Open In Colab\"/></a>"
      ]
    },
    {
      "cell_type": "markdown",
      "source": [
        "# Predict the future price of the Lojas Renner S.A. (LREN3.SA) with Machine Learning\n",
        "\n",
        "---\n",
        "\n",
        "\n",
        "This is a project which I am using the Linear Regression method to predict the future price of the paper for Lojas Renner S.A. (LREN3.SA)\n",
        "\n",
        "\n",
        "\n",
        "###LREN3.SA\n",
        "\n",
        "\n",
        "\n",
        "<p align=center>\n",
        "<img src=\"https://github.com/heitor-eng/H_Data_Science/blob/master/Imagens/stock-market-g69876065d_1920.jpg?raw=true\" width=\"50%\"></p>\n",
        "\n",
        "The dataset was take from the web page of [Yahoo Finance - Lojas Renner S.A.](https://br.financas.yahoo.com/quote/LREN3.SA/history?p=LREN3.SA)"
      ],
      "metadata": {
        "id": "-UAZr_ugwIlI"
      }
    },
    {
      "cell_type": "code",
      "execution_count": null,
      "metadata": {
        "id": "s0yKPfU6tHHU"
      },
      "outputs": [],
      "source": [
        "# Description: Predict the future price of the LREN3.SA csv"
      ]
    },
    {
      "cell_type": "code",
      "source": [
        "# Import the libraries\n",
        "import pandas as pd\n",
        "import numpy as np\n",
        "import matplotlib.pyplot as plt\n",
        "from sklearn.linear_model import LinearRegression\n",
        "from sklearn.metrics import r2_score\n",
        "plt.style.use('fivethirtyeight')"
      ],
      "metadata": {
        "id": "kAEAyy5Itd1H"
      },
      "execution_count": null,
      "outputs": []
    },
    {
      "cell_type": "code",
      "source": [
        "# Load the dataset\n",
        "from google.colab import files\n",
        "files.upload()"
      ],
      "metadata": {
        "id": "sGjqM5sgvtyY",
        "colab": {
          "resources": {
            "http://localhost:8080/nbextensions/google.colab/files.js": {
              "data": "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",
              "ok": true,
              "headers": [
                [
                  "content-type",
                  "application/javascript"
                ]
              ],
              "status": 200,
              "status_text": ""
            }
          },
          "base_uri": "https://localhost:8080/",
          "height": 110
        },
        "outputId": "dbbd429b-7dd3-4292-a2ac-48a2aa5f5787"
      },
      "execution_count": null,
      "outputs": [
        {
          "output_type": "display_data",
          "data": {
            "text/plain": [
              "<IPython.core.display.HTML object>"
            ],
            "text/html": [
              "\n",
              "     <input type=\"file\" id=\"files-7a38a328-fcc4-4e20-8961-2f1f5d6569be\" name=\"files[]\" multiple disabled\n",
              "        style=\"border:none\" />\n",
              "     <output id=\"result-7a38a328-fcc4-4e20-8961-2f1f5d6569be\">\n",
              "      Upload widget is only available when the cell has been executed in the\n",
              "      current browser session. Please rerun this cell to enable.\n",
              "      </output>\n",
              "      <script src=\"/nbextensions/google.colab/files.js\"></script> "
            ]
          },
          "metadata": {}
        },
        {
          "output_type": "stream",
          "name": "stdout",
          "text": [
            "Saving LREN3.SA.csv to LREN3.SA.csv\n"
          ]
        },
        {
          "output_type": "execute_result",
          "data": {
            "text/plain": [
              "{'LREN3.SA.csv': b'Date,Open,High,Low,Close,Adj Close,Volume\\n2021-04-29,36.418182,37.072727,35.890907,36.336365,35.695343,8683620\\n2021-04-30,36.727272,37.954544,36.218182,36.727272,36.118065,25368970\\n2021-05-03,36.799999,37.672726,36.409088,37.272728,36.654472,15702500\\n2021-05-04,37.327271,37.818180,36.809090,37.354546,36.734932,24260610\\n2021-05-05,37.500000,38.918182,37.299999,37.627274,37.003139,15809530\\n2021-05-06,37.545452,38.018181,37.136364,38.018181,37.387558,8316770\\n2021-05-07,38.090908,39.609089,37.963634,39.599998,38.943138,10844020\\n2021-05-10,39.018181,40.136364,38.863636,39.900002,39.238167,8392780\\n2021-05-11,39.200001,40.463634,38.490910,40.463634,39.792450,9460110\\n2021-05-12,40.054546,40.200001,38.609089,39.263638,38.612358,14420450\\n2021-05-13,39.145454,40.254543,39.081818,40.109089,39.443787,7127120\\n2021-05-14,40.072727,40.981819,38.781818,39.772728,39.113003,14338280\\n2021-05-17,39.527271,41.418182,39.390907,41.000000,40.319920,7346900\\n2021-05-18,41.018181,41.027271,40.272728,40.636364,39.962315,5500660\\n2021-05-19,40.154545,40.809090,39.981819,40.336365,39.667294,5847270\\n2021-05-20,40.336365,40.863636,39.345455,40.027271,39.363327,8560420\\n2021-05-21,40.081818,40.354546,39.390907,40.145454,39.479549,5959140\\n2021-05-24,40.063637,40.500000,39.509090,40.018181,39.354382,7458660\\n2021-05-25,40.127274,41.099998,39.881817,40.954544,40.275215,9479470\\n2021-05-26,41.336365,42.500000,40.900002,41.818180,41.124531,12182500\\n2021-05-27,41.954544,43.081818,41.627274,42.727272,42.018539,20627200\\n2021-05-28,42.818180,43.709091,42.672726,43.118179,42.402966,12218470\\n2021-05-31,42.954544,42.954544,41.936363,42.545452,41.839733,9313480\\n2021-06-01,42.909088,44.190910,42.909088,43.518181,42.796329,8356920\\n2021-06-02,43.590908,44.136364,42.963634,43.481819,42.760571,7656220\\n2021-06-04,43.563637,43.863636,42.463634,43.727272,43.001953,10394450\\n2021-06-07,43.836365,44.281818,42.572727,44.000000,43.270157,9808150\\n2021-06-08,44.181816,44.681816,43.845455,44.345455,43.609882,10972500\\n2021-06-09,44.354546,44.463634,43.400002,43.545452,42.823151,11867240\\n2021-06-10,43.799999,43.799999,42.563637,43.290909,42.572826,7277490\\n2021-06-11,43.245453,43.309090,41.718182,42.218182,41.517895,9844780\\n2021-06-14,42.445454,43.890907,42.436363,43.572727,42.849972,7728820\\n2021-06-15,43.645454,43.709091,42.909088,43.227272,42.510246,6969270\\n2021-06-16,43.218182,43.272728,41.927273,42.381817,41.678814,13649790\\n2021-06-17,42.390907,42.609089,41.518181,42.090908,41.392731,7457340\\n2021-06-18,41.936363,42.500000,41.754543,42.272728,41.571537,13726900\\n2021-06-21,42.254543,42.781818,41.772728,42.072727,41.374851,8949930\\n2021-06-22,41.890907,41.909088,40.527271,41.627274,40.936787,12103080\\n2021-06-23,41.636364,41.836365,40.509090,40.845455,40.167938,10026940\\n2021-06-24,41.181816,41.827271,40.981819,41.518181,40.829502,5764000\\n2021-06-25,41.400002,41.681816,40.281818,41.000000,40.319920,7143730\\n2021-06-28,40.618179,41.336365,40.563637,41.181816,40.587193,5288250\\n2021-06-29,41.181816,41.181816,39.754543,40.181816,39.601635,16814930\\n2021-06-30,40.000000,40.436363,39.227272,40.209091,39.628517,22215160\\n2021-07-01,40.290909,40.590908,38.445454,38.936363,38.374168,21129240\\n2021-07-02,39.345455,40.000000,39.154545,39.445454,38.875904,8368250\\n2021-07-05,39.581818,40.127274,39.154545,39.554546,38.983425,5910520\\n2021-07-06,39.481819,39.709091,39.172726,39.363636,38.795265,7577240\\n2021-07-07,39.763638,40.718182,39.463634,40.381817,39.798748,10027600\\n2021-07-08,39.781818,40.799999,39.272728,40.518181,39.933144,10701130\\n2021-07-12,40.672726,40.990910,40.236362,40.809090,40.219849,9245500\\n2021-07-13,40.581818,41.345455,40.090908,41.245453,40.649914,9379150\\n2021-07-14,41.727272,41.745453,40.863636,41.127274,40.533440,10140020\\n2021-07-15,41.045452,41.490910,40.509090,40.881817,40.291527,7345800\\n2021-07-16,41.118179,41.563637,40.590908,40.936363,40.345287,7231730\\n2021-07-19,40.509090,40.645454,39.627274,39.954544,39.377644,7930010\\n2021-07-20,39.781818,40.045452,39.154545,39.545452,38.974457,11241780\\n2021-07-21,39.545452,39.763638,39.036362,39.263638,38.696716,7893600\\n2021-07-22,39.327271,40.045452,39.327271,39.863636,39.288048,5973330\\n2021-07-23,39.709091,39.918182,39.054546,39.372726,38.804230,7420490\\n2021-07-26,39.390907,39.418182,38.254543,38.672726,38.114330,6515630\\n2021-07-27,38.390907,38.463634,37.609089,38.172726,37.621555,6159780\\n2021-07-28,38.181816,38.490910,37.690910,38.236362,37.684273,9754470\\n2021-07-29,38.136364,38.672726,37.963634,38.299999,37.746990,4521880\\n2021-07-30,37.909088,38.136364,37.272728,37.545452,37.003338,8590120\\n2021-08-02,38.172726,38.927273,37.772728,37.890907,37.343803,8708260\\n2021-08-03,37.772728,38.218182,37.163635,38.127274,37.576759,7093130\\n2021-08-04,37.818180,38.190910,37.327271,37.709091,37.164612,7090930\\n2021-08-05,38.072727,38.118179,36.872726,37.472729,36.931664,13225630\\n2021-08-06,37.500000,38.063637,37.163635,37.454544,36.913742,8814410\\n2021-08-09,37.400002,38.081818,37.200001,37.372726,36.833107,8268590\\n2021-08-10,37.590908,37.636364,36.754543,36.863636,36.331364,6239090\\n2021-08-11,36.809090,37.390907,36.472729,37.090908,36.555355,6001490\\n2021-08-12,36.954544,37.290909,36.281818,36.663635,36.134251,7482090\\n2021-08-13,37.454544,37.790909,35.927273,37.127274,36.591198,12532520\\n2021-08-16,37.045452,37.409088,35.454544,36.145454,35.623554,11288860\\n2021-08-17,35.972729,36.018181,34.818180,35.890907,35.372681,15381740\\n2021-08-18,35.918182,36.254543,34.890907,35.454544,34.942619,11385440\\n2021-08-19,35.145454,36.472729,34.745453,35.863636,35.345802,11584210\\n2021-08-20,35.163635,35.936363,35.090908,35.636364,35.121811,9883280\\n2021-08-23,35.554546,36.000000,34.254543,34.590908,34.091454,10033760\\n2021-08-24,34.745453,35.618179,34.745453,35.363636,34.853024,6624530\\n2021-08-25,35.318180,36.154545,34.972729,35.745453,35.229324,6385610\\n2021-08-26,35.445454,35.681816,34.381817,34.463634,33.966015,9548000\\n2021-08-27,34.599998,35.036362,34.118179,34.736362,34.234806,8021640\\n2021-08-30,34.727272,34.890907,34.218182,34.527271,34.028736,4292200\\n2021-08-31,34.690910,35.299999,33.890907,34.599998,34.100410,8714970\\n2021-09-01,34.363636,34.745453,33.772728,34.090908,33.598675,11412830\\n2021-09-02,34.000000,34.000000,33.209091,33.209091,32.729588,7758520\\n2021-09-03,33.454544,33.745453,32.781818,33.745453,33.258205,11691900\\n2021-09-06,33.490910,34.045452,33.463634,33.745453,33.258205,2785640\\n2021-09-08,33.690910,33.799999,31.872726,31.981817,31.520035,12639220\\n2021-09-09,32.109089,33.018181,31.418180,32.554546,32.084496,11951610\\n2021-09-10,33.236362,33.709091,32.563637,32.881817,32.407040,10131770\\n2021-09-13,33.363636,34.118179,33.145454,33.790909,33.303005,7477580\\n2021-09-14,33.909088,34.518181,33.690910,33.981819,33.491161,9481670\\n2021-09-15,34.218182,34.527271,33.027271,33.445454,32.962540,10635900\\n2021-09-16,33.409088,34.072727,33.154545,33.863636,33.374680,6980600\\n2021-09-17,33.709091,34.000000,33.190910,33.227272,32.747509,12308890\\n2021-09-20,32.890907,33.281818,32.018181,32.463634,31.994896,7996890\\n2021-09-21,32.681816,33.872726,32.500000,33.227272,32.747509,8078840\\n2021-09-22,33.372726,33.518181,32.663635,33.281818,32.916359,8093360\\n2021-09-23,33.418182,34.063637,33.236362,33.818180,33.446835,11313830\\n2021-09-24,33.599998,33.709091,33.209091,33.618179,33.249027,5426410\\n2021-09-27,33.736362,33.781818,32.290909,32.590908,32.233040,6699110\\n2021-09-28,32.381817,32.418182,30.709089,31.127272,30.785471,11599390\\n2021-09-29,31.309090,32.254543,31.090908,31.345453,31.001257,6781170\\n2021-09-30,31.372726,31.981817,31.045454,31.290909,30.947313,7851470\\n2021-10-01,31.345453,33.000000,31.036364,32.927273,32.565708,11490820\\n2021-10-04,32.754543,32.845455,30.881819,31.200001,30.857403,8348340\\n2021-10-05,31.245455,31.709089,30.799999,31.118181,30.776482,13207150\\n2021-10-06,30.363636,30.818180,29.500000,30.727272,30.389866,12124530\\n2021-10-07,30.981817,31.181818,30.400000,30.700001,30.362892,8071030\\n2021-10-08,31.090908,32.727272,31.018181,31.545454,31.199062,12077670\\n2021-10-11,31.763636,31.763636,30.690908,30.818180,30.479774,7654570\\n2021-10-13,30.981817,32.181816,30.763636,31.618181,31.270990,15174170\\n2021-10-14,31.672728,31.963636,31.045454,31.454544,31.109152,5161860\\n2021-10-15,31.309090,32.727272,31.127272,32.500000,32.143127,11473550\\n2021-10-18,32.445454,33.299999,31.727272,32.718182,32.358910,9061030\\n2021-10-19,32.272728,32.272728,30.754545,31.299999,30.956303,14039190\\n2021-10-20,31.072727,32.663635,31.072727,31.945454,31.594671,14018070\\n2021-10-21,30.900000,31.945454,30.118181,30.354546,30.021231,19699240\\n2021-10-22,30.000000,30.100000,27.636362,29.136362,28.816423,36556520\\n2021-10-25,29.227272,30.363636,28.972727,29.863636,29.535711,13938760\\n2021-10-26,29.545454,29.763636,28.418180,28.627272,28.312923,12625690\\n2021-10-27,28.745455,30.172728,28.654545,29.427273,29.104139,13813250\\n2021-10-28,28.854546,29.963636,28.854546,29.409090,29.086157,11121880\\n2021-10-29,29.690908,29.927273,28.972727,29.299999,28.978264,10311180\\n2021-11-01,29.318180,30.427273,29.318180,30.181818,29.850399,7824960\\n2021-11-03,30.027271,32.263638,29.972727,31.690908,31.342918,13573230\\n2021-11-04,31.681818,32.099998,30.663635,31.000000,30.659597,10504450\\n2021-11-05,31.430000,32.799999,31.309999,31.600000,31.253010,9878400\\n2021-11-08,31.660000,31.660000,30.620001,31.000000,30.659597,5415200\\n2021-11-09,31.170000,33.000000,31.100000,32.320000,31.965103,7943100\\n2021-11-10,32.029999,33.830002,32.029999,32.759998,32.400269,12068300\\n2021-11-11,33.169998,34.759998,32.869999,33.930000,33.557423,13957400\\n2021-11-12,33.799999,33.799999,31.940001,32.230000,31.876089,20338700\\n2021-11-16,32.570000,32.730000,30.850000,31.209999,30.867290,11843200\\n2021-11-17,31.709999,31.879999,30.100000,30.980000,30.639816,8698000\\n2021-11-18,31.080000,31.870001,30.850000,31.850000,31.500263,9395400\\n2021-11-19,31.900000,33.410000,31.830000,32.320000,31.965103,14532100\\n2021-11-22,32.450001,32.660000,30.959999,31.180000,30.837622,7208200\\n2021-11-23,31.410000,31.709999,30.160000,31.150000,30.807949,9635000\\n2021-11-24,31.080000,31.459999,29.990000,30.610001,30.273882,11295400\\n2021-11-25,30.719999,31.480000,30.420000,30.770000,30.432123,8927400\\n2021-11-26,30.000000,30.000000,28.600000,29.360001,29.037605,12979900\\n2021-11-29,29.750000,30.070000,28.700001,28.940001,28.622217,8821400\\n2021-11-30,28.600000,29.309999,27.799999,28.450001,28.137600,19591200\\n2021-12-01,28.900000,29.660000,27.969999,28.290001,27.979357,10688100\\n2021-12-02,28.760000,29.090000,28.160000,28.610001,28.295841,14850100\\n2021-12-03,28.740000,30.379999,28.639999,29.250000,28.928814,10778300\\n2021-12-06,29.469999,30.000000,28.980000,29.790001,29.462885,9548300\\n2021-12-07,30.190001,30.320000,28.959999,29.459999,29.136507,9473700\\n2021-12-08,29.400000,29.940001,28.760000,29.600000,29.274971,9571500\\n2021-12-09,29.320000,29.580000,27.860001,28.250000,27.939795,11891800\\n2021-12-10,28.650000,29.040001,28.139999,28.400000,28.088148,8837100\\n2021-12-13,28.510000,28.760000,27.809999,27.809999,27.504627,10734300\\n2021-12-14,28.059999,28.270000,26.290001,26.450001,26.159561,16004600\\n2021-12-15,26.570000,27.129999,25.969999,26.990000,26.693630,15093500\\n2021-12-16,27.200001,27.270000,25.930000,26.200001,25.912306,12146700\\n2021-12-17,25.820000,26.709999,25.410000,26.240000,25.951866,14755400\\n2021-12-20,25.809999,26.150000,25.129999,25.260000,24.982628,10783100\\n2021-12-21,25.500000,25.670000,24.549999,24.690001,24.418886,10889300\\n2021-12-22,24.660000,24.740000,23.850000,24.600000,24.457561,14927900\\n2021-12-23,24.700001,24.889999,23.879999,24.170000,24.030052,5953400\\n2021-12-27,24.150000,24.860001,24.110001,24.370001,24.228895,6871000\\n2021-12-28,24.530001,24.850000,24.170000,24.459999,24.318371,7083400\\n2021-12-29,24.469999,24.510000,23.900000,23.900000,23.761614,7020000\\n2021-12-30,23.950001,24.760000,23.910000,24.440001,24.298489,7548300\\n2022-01-03,24.450001,24.650000,23.080000,23.080000,22.946363,11665200\\n2022-01-04,23.250000,23.549999,22.440001,22.799999,22.667984,16175500\\n2022-01-05,22.719999,22.980000,21.650000,21.690001,21.564411,13078300\\n2022-01-06,21.870001,22.940001,21.440001,22.799999,22.667984,21405100\\n2022-01-07,22.750000,23.389999,22.270000,22.990000,22.856884,15523500\\n2022-01-10,22.740000,23.110001,22.360001,22.740000,22.608332,7373400\\n2022-01-11,22.660000,23.520000,22.350000,23.260000,23.125320,10202200\\n2022-01-12,23.450001,24.889999,23.299999,24.650000,24.507273,20968200\\n2022-01-13,24.410000,25.000000,24.150000,24.760000,24.616636,9710100\\n2022-01-14,24.700001,24.770000,23.719999,23.969999,23.831209,8439300\\n2022-01-17,23.950001,24.230000,23.440001,23.490000,23.353989,4096300\\n2022-01-18,23.430000,23.750000,23.049999,23.500000,23.363932,6345400\\n2022-01-19,23.799999,25.139999,23.670000,24.850000,24.706114,12686800\\n2022-01-20,25.299999,26.620001,25.160000,26.139999,25.988644,22423500\\n2022-01-21,25.900000,26.990000,25.540001,26.440001,26.286909,17309600\\n2022-01-24,26.340000,26.379999,25.540001,25.879999,25.730150,8087800\\n2022-01-25,25.620001,27.290001,25.570000,27.010000,26.853607,18346700\\n2022-01-26,27.910000,28.870001,27.280001,27.750000,27.589323,16685600\\n2022-01-27,28.200001,28.889999,27.600000,27.930000,27.768280,15589400\\n2022-01-28,27.549999,28.360001,27.400000,28.150000,27.987007,11471800\\n2022-01-31,28.090000,28.469999,27.820000,28.120001,27.957182,11328100\\n2022-02-01,28.049999,28.610001,26.719999,26.980000,26.823780,11837100\\n2022-02-02,27.100000,27.490000,26.080000,26.590000,26.436039,8882000\\n2022-02-03,26.680000,27.250000,26.190001,26.670000,26.515575,7040500\\n2022-02-04,26.500000,26.620001,25.400000,26.200001,26.048298,7007500\\n2022-02-07,26.110001,26.520000,25.360001,25.690001,25.541250,5801100\\n2022-02-08,25.309999,25.770000,24.719999,25.580000,25.431887,9215200\\n2022-02-09,26.330000,26.430000,25.570000,25.910000,25.759977,5645800\\n2022-02-10,26.030001,26.160000,25.360001,25.580000,25.431887,8556000\\n2022-02-11,25.629999,26.330000,24.860001,25.350000,25.203220,13087100\\n2022-02-14,25.520000,26.270000,25.510000,25.910000,25.759977,8001100\\n2022-02-15,26.299999,27.240000,26.160000,27.110001,26.953030,11342800\\n2022-02-16,27.190001,27.670000,26.770000,27.510000,27.350712,11687500\\n2022-02-17,27.459999,28.030001,27.209999,27.230000,27.072332,9631500\\n2022-02-18,27.549999,27.719999,26.959999,27.600000,27.440191,9478300\\n2022-02-21,27.459999,27.459999,25.920000,26.370001,26.217314,7323000\\n2022-02-22,26.660000,26.920000,25.809999,25.930000,25.779861,10563300\\n2022-02-23,25.900000,27.070000,25.530001,25.700001,25.551193,10592300\\n2022-02-24,25.150000,25.969999,24.360001,25.510000,25.362293,12812000\\n2022-02-25,25.590000,25.690001,24.760000,25.320000,25.173393,12570400\\n2022-03-02,24.500000,26.059999,24.440001,25.240000,25.093855,6224600\\n2022-03-03,25.290001,25.620001,24.600000,24.760000,24.616636,6577000\\n2022-03-04,24.709999,24.879999,23.860001,24.129999,23.990282,9023900\\n2022-03-07,23.700001,23.950001,21.980000,21.980000,21.852732,27869200\\n2022-03-08,22.030001,23.969999,21.440001,23.379999,23.244625,50316500\\n2022-03-09,23.740000,25.070000,23.270000,24.459999,24.318371,29906300\\n2022-03-10,23.900000,24.450001,23.120001,23.740000,23.602541,13732400\\n2022-03-11,23.799999,24.180000,22.639999,22.850000,22.717695,7590600\\n2022-03-14,23.150000,23.200001,22.160000,22.299999,22.170877,6545700\\n2022-03-15,22.090000,22.709999,21.920000,22.379999,22.250416,13716400\\n2022-03-16,22.600000,23.000000,22.340000,22.799999,22.667984,7919700\\n2022-03-17,22.770000,23.110001,22.270000,22.900000,22.767405,15552100\\n2022-03-18,21.400000,24.299999,21.129999,24.150000,24.010166,43469300\\n2022-03-21,24.150000,24.190001,22.959999,24.040001,23.900805,15579600\\n2022-03-22,24.370001,25.299999,24.320000,24.900000,24.755825,16608100\\n2022-03-23,24.799999,26.260000,24.340000,26.150000,26.150000,22260900\\n2022-03-24,26.129999,27.950001,25.809999,27.650000,27.650000,21177800\\n2022-03-25,27.900000,28.520000,27.320000,27.580000,27.580000,15427500\\n2022-03-28,27.639999,27.830000,26.540001,26.920000,26.920000,10434100\\n2022-03-29,27.799999,28.080000,27.180000,27.490000,27.490000,10413900\\n2022-03-30,27.500000,27.969999,26.930000,27.340000,27.340000,6624900\\n2022-03-31,27.480000,27.910000,27.110001,27.500000,27.500000,10657100\\n2022-04-01,27.900000,29.299999,27.879999,29.059999,29.059999,21261500\\n2022-04-04,29.180000,29.610001,28.299999,29.389999,29.389999,11957800\\n2022-04-05,29.450001,29.830000,27.549999,27.959999,27.959999,15315000\\n2022-04-06,27.840000,27.840000,26.600000,27.049999,27.049999,15942700\\n2022-04-07,26.709999,27.230000,26.299999,26.820000,26.820000,10724500\\n2022-04-08,26.570000,27.370001,26.160000,26.730000,26.730000,21570400\\n2022-04-11,26.299999,27.020000,26.010000,26.750000,26.750000,10367800\\n2022-04-12,27.150000,27.540001,26.070000,26.200001,26.200001,13511800\\n2022-04-13,26.500000,26.709999,26.010000,26.670000,26.670000,11197900\\n2022-04-14,26.510000,27.080000,26.420000,26.740000,26.740000,9447700\\n2022-04-18,26.610001,27.000000,26.190001,26.430000,26.430000,8534000\\n2022-04-19,26.280001,26.440001,25.889999,26.250000,26.250000,9992700\\n2022-04-20,26.000000,26.270000,25.200001,25.980000,25.980000,12036200\\n2022-04-22,25.400000,25.610001,24.700001,25.020000,25.020000,11626100\\n2022-04-25,24.670000,25.160000,24.320000,25.000000,25.000000,10646500\\n2022-04-26,24.870001,25.750000,24.270000,24.459999,24.459999,15031700\\n2022-04-27,24.900000,25.320000,24.160000,24.530001,24.530001,25730500\\n2022-04-28,0.000000,0.000000,0.000000,24.389999,24.389999,0'}"
            ]
          },
          "metadata": {},
          "execution_count": 2
        }
      ]
    },
    {
      "cell_type": "code",
      "source": [
        "# Store the data\n",
        "df = pd.read_csv('LREN3.SA.csv',index_col=\"Date\",parse_dates = True)\n",
        "\n",
        "# Show the data\n",
        "print('The number of rows: ',df.shape[0])\n",
        "print(\"And the columns are: \", df.shape[1])\n",
        "\n",
        "# The head of the dataset\n",
        "df.head()"
      ],
      "metadata": {
        "colab": {
          "base_uri": "https://localhost:8080/",
          "height": 272
        },
        "id": "_OTmL5Rhv_xT",
        "outputId": "c5266d4c-feaf-42b4-96e9-a89709063923"
      },
      "execution_count": null,
      "outputs": [
        {
          "output_type": "stream",
          "name": "stdout",
          "text": [
            "The number of rows:  249\n",
            "And the columns are:  6\n"
          ]
        },
        {
          "output_type": "execute_result",
          "data": {
            "text/plain": [
              "                 Open       High        Low      Close  Adj Close    Volume\n",
              "Date                                                                       \n",
              "2021-04-29  36.418182  37.072727  35.890907  36.336365  35.695343   8683620\n",
              "2021-04-30  36.727272  37.954544  36.218182  36.727272  36.118065  25368970\n",
              "2021-05-03  36.799999  37.672726  36.409088  37.272728  36.654472  15702500\n",
              "2021-05-04  37.327271  37.818180  36.809090  37.354546  36.734932  24260610\n",
              "2021-05-05  37.500000  38.918182  37.299999  37.627274  37.003139  15809530"
            ],
            "text/html": [
              "\n",
              "  <div id=\"df-2e23d6f5-5d12-4841-8727-2e1cc4bb75d8\">\n",
              "    <div class=\"colab-df-container\">\n",
              "      <div>\n",
              "<style scoped>\n",
              "    .dataframe tbody tr th:only-of-type {\n",
              "        vertical-align: middle;\n",
              "    }\n",
              "\n",
              "    .dataframe tbody tr th {\n",
              "        vertical-align: top;\n",
              "    }\n",
              "\n",
              "    .dataframe thead th {\n",
              "        text-align: right;\n",
              "    }\n",
              "</style>\n",
              "<table border=\"1\" class=\"dataframe\">\n",
              "  <thead>\n",
              "    <tr style=\"text-align: right;\">\n",
              "      <th></th>\n",
              "      <th>Open</th>\n",
              "      <th>High</th>\n",
              "      <th>Low</th>\n",
              "      <th>Close</th>\n",
              "      <th>Adj Close</th>\n",
              "      <th>Volume</th>\n",
              "    </tr>\n",
              "    <tr>\n",
              "      <th>Date</th>\n",
              "      <th></th>\n",
              "      <th></th>\n",
              "      <th></th>\n",
              "      <th></th>\n",
              "      <th></th>\n",
              "      <th></th>\n",
              "    </tr>\n",
              "  </thead>\n",
              "  <tbody>\n",
              "    <tr>\n",
              "      <th>2021-04-29</th>\n",
              "      <td>36.418182</td>\n",
              "      <td>37.072727</td>\n",
              "      <td>35.890907</td>\n",
              "      <td>36.336365</td>\n",
              "      <td>35.695343</td>\n",
              "      <td>8683620</td>\n",
              "    </tr>\n",
              "    <tr>\n",
              "      <th>2021-04-30</th>\n",
              "      <td>36.727272</td>\n",
              "      <td>37.954544</td>\n",
              "      <td>36.218182</td>\n",
              "      <td>36.727272</td>\n",
              "      <td>36.118065</td>\n",
              "      <td>25368970</td>\n",
              "    </tr>\n",
              "    <tr>\n",
              "      <th>2021-05-03</th>\n",
              "      <td>36.799999</td>\n",
              "      <td>37.672726</td>\n",
              "      <td>36.409088</td>\n",
              "      <td>37.272728</td>\n",
              "      <td>36.654472</td>\n",
              "      <td>15702500</td>\n",
              "    </tr>\n",
              "    <tr>\n",
              "      <th>2021-05-04</th>\n",
              "      <td>37.327271</td>\n",
              "      <td>37.818180</td>\n",
              "      <td>36.809090</td>\n",
              "      <td>37.354546</td>\n",
              "      <td>36.734932</td>\n",
              "      <td>24260610</td>\n",
              "    </tr>\n",
              "    <tr>\n",
              "      <th>2021-05-05</th>\n",
              "      <td>37.500000</td>\n",
              "      <td>38.918182</td>\n",
              "      <td>37.299999</td>\n",
              "      <td>37.627274</td>\n",
              "      <td>37.003139</td>\n",
              "      <td>15809530</td>\n",
              "    </tr>\n",
              "  </tbody>\n",
              "</table>\n",
              "</div>\n",
              "      <button class=\"colab-df-convert\" onclick=\"convertToInteractive('df-2e23d6f5-5d12-4841-8727-2e1cc4bb75d8')\"\n",
              "              title=\"Convert this dataframe to an interactive table.\"\n",
              "              style=\"display:none;\">\n",
              "        \n",
              "  <svg xmlns=\"http://www.w3.org/2000/svg\" height=\"24px\"viewBox=\"0 0 24 24\"\n",
              "       width=\"24px\">\n",
              "    <path d=\"M0 0h24v24H0V0z\" fill=\"none\"/>\n",
              "    <path d=\"M18.56 5.44l.94 2.06.94-2.06 2.06-.94-2.06-.94-.94-2.06-.94 2.06-2.06.94zm-11 1L8.5 8.5l.94-2.06 2.06-.94-2.06-.94L8.5 2.5l-.94 2.06-2.06.94zm10 10l.94 2.06.94-2.06 2.06-.94-2.06-.94-.94-2.06-.94 2.06-2.06.94z\"/><path d=\"M17.41 7.96l-1.37-1.37c-.4-.4-.92-.59-1.43-.59-.52 0-1.04.2-1.43.59L10.3 9.45l-7.72 7.72c-.78.78-.78 2.05 0 2.83L4 21.41c.39.39.9.59 1.41.59.51 0 1.02-.2 1.41-.59l7.78-7.78 2.81-2.81c.8-.78.8-2.07 0-2.86zM5.41 20L4 18.59l7.72-7.72 1.47 1.35L5.41 20z\"/>\n",
              "  </svg>\n",
              "      </button>\n",
              "      \n",
              "  <style>\n",
              "    .colab-df-container {\n",
              "      display:flex;\n",
              "      flex-wrap:wrap;\n",
              "      gap: 12px;\n",
              "    }\n",
              "\n",
              "    .colab-df-convert {\n",
              "      background-color: #E8F0FE;\n",
              "      border: none;\n",
              "      border-radius: 50%;\n",
              "      cursor: pointer;\n",
              "      display: none;\n",
              "      fill: #1967D2;\n",
              "      height: 32px;\n",
              "      padding: 0 0 0 0;\n",
              "      width: 32px;\n",
              "    }\n",
              "\n",
              "    .colab-df-convert:hover {\n",
              "      background-color: #E2EBFA;\n",
              "      box-shadow: 0px 1px 2px rgba(60, 64, 67, 0.3), 0px 1px 3px 1px rgba(60, 64, 67, 0.15);\n",
              "      fill: #174EA6;\n",
              "    }\n",
              "\n",
              "    [theme=dark] .colab-df-convert {\n",
              "      background-color: #3B4455;\n",
              "      fill: #D2E3FC;\n",
              "    }\n",
              "\n",
              "    [theme=dark] .colab-df-convert:hover {\n",
              "      background-color: #434B5C;\n",
              "      box-shadow: 0px 1px 3px 1px rgba(0, 0, 0, 0.15);\n",
              "      filter: drop-shadow(0px 1px 2px rgba(0, 0, 0, 0.3));\n",
              "      fill: #FFFFFF;\n",
              "    }\n",
              "  </style>\n",
              "\n",
              "      <script>\n",
              "        const buttonEl =\n",
              "          document.querySelector('#df-2e23d6f5-5d12-4841-8727-2e1cc4bb75d8 button.colab-df-convert');\n",
              "        buttonEl.style.display =\n",
              "          google.colab.kernel.accessAllowed ? 'block' : 'none';\n",
              "\n",
              "        async function convertToInteractive(key) {\n",
              "          const element = document.querySelector('#df-2e23d6f5-5d12-4841-8727-2e1cc4bb75d8');\n",
              "          const dataTable =\n",
              "            await google.colab.kernel.invokeFunction('convertToInteractive',\n",
              "                                                     [key], {});\n",
              "          if (!dataTable) return;\n",
              "\n",
              "          const docLinkHtml = 'Like what you see? Visit the ' +\n",
              "            '<a target=\"_blank\" href=https://colab.research.google.com/notebooks/data_table.ipynb>data table notebook</a>'\n",
              "            + ' to learn more about interactive tables.';\n",
              "          element.innerHTML = '';\n",
              "          dataTable['output_type'] = 'display_data';\n",
              "          await google.colab.output.renderOutput(dataTable, element);\n",
              "          const docLink = document.createElement('div');\n",
              "          docLink.innerHTML = docLinkHtml;\n",
              "          element.appendChild(docLink);\n",
              "        }\n",
              "      </script>\n",
              "    </div>\n",
              "  </div>\n",
              "  "
            ]
          },
          "metadata": {},
          "execution_count": 3
        }
      ]
    },
    {
      "cell_type": "code",
      "source": [
        "#the most recently datas\n",
        "df.tail(3)"
      ],
      "metadata": {
        "colab": {
          "base_uri": "https://localhost:8080/",
          "height": 175
        },
        "id": "fTsKtZPb3iIx",
        "outputId": "46098ce0-8f5c-46ae-e8f3-3b9a22ec794f"
      },
      "execution_count": null,
      "outputs": [
        {
          "output_type": "execute_result",
          "data": {
            "text/plain": [
              "                 Open   High    Low      Close  Adj Close    Volume\n",
              "Date                                                               \n",
              "2022-04-26  24.870001  25.75  24.27  24.459999  24.459999  15031700\n",
              "2022-04-27  24.900000  25.32  24.16  24.530001  24.530001  25730500\n",
              "2022-04-28   0.000000   0.00   0.00  24.389999  24.389999         0"
            ],
            "text/html": [
              "\n",
              "  <div id=\"df-d997aab4-acf6-4d86-b0c9-f80b336ebae5\">\n",
              "    <div class=\"colab-df-container\">\n",
              "      <div>\n",
              "<style scoped>\n",
              "    .dataframe tbody tr th:only-of-type {\n",
              "        vertical-align: middle;\n",
              "    }\n",
              "\n",
              "    .dataframe tbody tr th {\n",
              "        vertical-align: top;\n",
              "    }\n",
              "\n",
              "    .dataframe thead th {\n",
              "        text-align: right;\n",
              "    }\n",
              "</style>\n",
              "<table border=\"1\" class=\"dataframe\">\n",
              "  <thead>\n",
              "    <tr style=\"text-align: right;\">\n",
              "      <th></th>\n",
              "      <th>Open</th>\n",
              "      <th>High</th>\n",
              "      <th>Low</th>\n",
              "      <th>Close</th>\n",
              "      <th>Adj Close</th>\n",
              "      <th>Volume</th>\n",
              "    </tr>\n",
              "    <tr>\n",
              "      <th>Date</th>\n",
              "      <th></th>\n",
              "      <th></th>\n",
              "      <th></th>\n",
              "      <th></th>\n",
              "      <th></th>\n",
              "      <th></th>\n",
              "    </tr>\n",
              "  </thead>\n",
              "  <tbody>\n",
              "    <tr>\n",
              "      <th>2022-04-26</th>\n",
              "      <td>24.870001</td>\n",
              "      <td>25.75</td>\n",
              "      <td>24.27</td>\n",
              "      <td>24.459999</td>\n",
              "      <td>24.459999</td>\n",
              "      <td>15031700</td>\n",
              "    </tr>\n",
              "    <tr>\n",
              "      <th>2022-04-27</th>\n",
              "      <td>24.900000</td>\n",
              "      <td>25.32</td>\n",
              "      <td>24.16</td>\n",
              "      <td>24.530001</td>\n",
              "      <td>24.530001</td>\n",
              "      <td>25730500</td>\n",
              "    </tr>\n",
              "    <tr>\n",
              "      <th>2022-04-28</th>\n",
              "      <td>0.000000</td>\n",
              "      <td>0.00</td>\n",
              "      <td>0.00</td>\n",
              "      <td>24.389999</td>\n",
              "      <td>24.389999</td>\n",
              "      <td>0</td>\n",
              "    </tr>\n",
              "  </tbody>\n",
              "</table>\n",
              "</div>\n",
              "      <button class=\"colab-df-convert\" onclick=\"convertToInteractive('df-d997aab4-acf6-4d86-b0c9-f80b336ebae5')\"\n",
              "              title=\"Convert this dataframe to an interactive table.\"\n",
              "              style=\"display:none;\">\n",
              "        \n",
              "  <svg xmlns=\"http://www.w3.org/2000/svg\" height=\"24px\"viewBox=\"0 0 24 24\"\n",
              "       width=\"24px\">\n",
              "    <path d=\"M0 0h24v24H0V0z\" fill=\"none\"/>\n",
              "    <path d=\"M18.56 5.44l.94 2.06.94-2.06 2.06-.94-2.06-.94-.94-2.06-.94 2.06-2.06.94zm-11 1L8.5 8.5l.94-2.06 2.06-.94-2.06-.94L8.5 2.5l-.94 2.06-2.06.94zm10 10l.94 2.06.94-2.06 2.06-.94-2.06-.94-.94-2.06-.94 2.06-2.06.94z\"/><path d=\"M17.41 7.96l-1.37-1.37c-.4-.4-.92-.59-1.43-.59-.52 0-1.04.2-1.43.59L10.3 9.45l-7.72 7.72c-.78.78-.78 2.05 0 2.83L4 21.41c.39.39.9.59 1.41.59.51 0 1.02-.2 1.41-.59l7.78-7.78 2.81-2.81c.8-.78.8-2.07 0-2.86zM5.41 20L4 18.59l7.72-7.72 1.47 1.35L5.41 20z\"/>\n",
              "  </svg>\n",
              "      </button>\n",
              "      \n",
              "  <style>\n",
              "    .colab-df-container {\n",
              "      display:flex;\n",
              "      flex-wrap:wrap;\n",
              "      gap: 12px;\n",
              "    }\n",
              "\n",
              "    .colab-df-convert {\n",
              "      background-color: #E8F0FE;\n",
              "      border: none;\n",
              "      border-radius: 50%;\n",
              "      cursor: pointer;\n",
              "      display: none;\n",
              "      fill: #1967D2;\n",
              "      height: 32px;\n",
              "      padding: 0 0 0 0;\n",
              "      width: 32px;\n",
              "    }\n",
              "\n",
              "    .colab-df-convert:hover {\n",
              "      background-color: #E2EBFA;\n",
              "      box-shadow: 0px 1px 2px rgba(60, 64, 67, 0.3), 0px 1px 3px 1px rgba(60, 64, 67, 0.15);\n",
              "      fill: #174EA6;\n",
              "    }\n",
              "\n",
              "    [theme=dark] .colab-df-convert {\n",
              "      background-color: #3B4455;\n",
              "      fill: #D2E3FC;\n",
              "    }\n",
              "\n",
              "    [theme=dark] .colab-df-convert:hover {\n",
              "      background-color: #434B5C;\n",
              "      box-shadow: 0px 1px 3px 1px rgba(0, 0, 0, 0.15);\n",
              "      filter: drop-shadow(0px 1px 2px rgba(0, 0, 0, 0.3));\n",
              "      fill: #FFFFFF;\n",
              "    }\n",
              "  </style>\n",
              "\n",
              "      <script>\n",
              "        const buttonEl =\n",
              "          document.querySelector('#df-d997aab4-acf6-4d86-b0c9-f80b336ebae5 button.colab-df-convert');\n",
              "        buttonEl.style.display =\n",
              "          google.colab.kernel.accessAllowed ? 'block' : 'none';\n",
              "\n",
              "        async function convertToInteractive(key) {\n",
              "          const element = document.querySelector('#df-d997aab4-acf6-4d86-b0c9-f80b336ebae5');\n",
              "          const dataTable =\n",
              "            await google.colab.kernel.invokeFunction('convertToInteractive',\n",
              "                                                     [key], {});\n",
              "          if (!dataTable) return;\n",
              "\n",
              "          const docLinkHtml = 'Like what you see? Visit the ' +\n",
              "            '<a target=\"_blank\" href=https://colab.research.google.com/notebooks/data_table.ipynb>data table notebook</a>'\n",
              "            + ' to learn more about interactive tables.';\n",
              "          element.innerHTML = '';\n",
              "          dataTable['output_type'] = 'display_data';\n",
              "          await google.colab.output.renderOutput(dataTable, element);\n",
              "          const docLink = document.createElement('div');\n",
              "          docLink.innerHTML = docLinkHtml;\n",
              "          element.appendChild(docLink);\n",
              "        }\n",
              "      </script>\n",
              "    </div>\n",
              "  </div>\n",
              "  "
            ]
          },
          "metadata": {},
          "execution_count": 5
        }
      ]
    },
    {
      "cell_type": "code",
      "source": [
        "df.dtypes"
      ],
      "metadata": {
        "colab": {
          "base_uri": "https://localhost:8080/"
        },
        "id": "AvBt3B_33958",
        "outputId": "5f5bacc6-6a90-40ed-a536-8eaacc9a0aba"
      },
      "execution_count": null,
      "outputs": [
        {
          "output_type": "execute_result",
          "data": {
            "text/plain": [
              "Open         float64\n",
              "High         float64\n",
              "Low          float64\n",
              "Close        float64\n",
              "Adj Close    float64\n",
              "Volume         int64\n",
              "dtype: object"
            ]
          },
          "metadata": {},
          "execution_count": 12
        }
      ]
    },
    {
      "cell_type": "markdown",
      "source": [
        "## Linear Regression\n",
        "\n",
        "Is one of the two most famous Machine Learning Algorithms which come under supervised learning techniques. Since this algorithm is supervised in nature hence this algorithm use labeled datasets to make the predictions.\n",
        "\n",
        "It is one of the most simple Machine learning algorithm that comes under Supervised Learning technique and used for solving regression problems.\n",
        "\n",
        "The goal of linear regression is to find the best fit line that can accurately predict the output for the continuous dependent variable. And it is used for predicting the continuous dependent variable with the help of independent variables, such as price, age, salary, etc.\n",
        "\n",
        "**Source**: [Javatpoint](https://www.javatpoint.com/linear-regression-vs-logistic-regression-in-machine-learning)"
      ],
      "metadata": {
        "id": "SRAmfuJNWpQx"
      }
    },
    {
      "cell_type": "code",
      "source": [
        "# Copy the dataframe\n",
        "df2 = df.copy()"
      ],
      "metadata": {
        "id": "DoPuuh1FTPtJ"
      },
      "execution_count": null,
      "outputs": []
    },
    {
      "cell_type": "code",
      "source": [
        "# Create a new column called \"Numbers\"  that ranges from 0 to the lenght of the data set\n",
        "df2[\"Numbers\"] = list(range(0,len(df2)))"
      ],
      "metadata": {
        "id": "tAp465JnThdX"
      },
      "execution_count": null,
      "outputs": []
    },
    {
      "cell_type": "code",
      "source": [
        "# Store the \"Numbers\" column into a variable called 'X' as an array\n",
        "X = np.array(df2[[\"Numbers\"]])"
      ],
      "metadata": {
        "id": "m1jlcvc-T1RE"
      },
      "execution_count": null,
      "outputs": []
    },
    {
      "cell_type": "code",
      "source": [
        "df2.tail()"
      ],
      "metadata": {
        "colab": {
          "base_uri": "https://localhost:8080/",
          "height": 238
        },
        "id": "SvPxaPWU4Mwv",
        "outputId": "f649eed3-5fea-4bdd-8680-538d2a31fdec"
      },
      "execution_count": null,
      "outputs": [
        {
          "output_type": "execute_result",
          "data": {
            "text/plain": [
              "                 Open       High        Low      Close  Adj Close    Volume  \\\n",
              "Date                                                                          \n",
              "2022-04-22  25.400000  25.610001  24.700001  25.020000  25.020000  11626100   \n",
              "2022-04-25  24.670000  25.160000  24.320000  25.000000  25.000000  10646500   \n",
              "2022-04-26  24.870001  25.750000  24.270000  24.459999  24.459999  15031700   \n",
              "2022-04-27  24.900000  25.320000  24.160000  24.530001  24.530001  25730500   \n",
              "2022-04-28   0.000000   0.000000   0.000000  24.389999  24.389999         0   \n",
              "\n",
              "            Numbers  \n",
              "Date                 \n",
              "2022-04-22      244  \n",
              "2022-04-25      245  \n",
              "2022-04-26      246  \n",
              "2022-04-27      247  \n",
              "2022-04-28      248  "
            ],
            "text/html": [
              "\n",
              "  <div id=\"df-48f95652-ad7c-40ae-be9d-72804bb825f9\">\n",
              "    <div class=\"colab-df-container\">\n",
              "      <div>\n",
              "<style scoped>\n",
              "    .dataframe tbody tr th:only-of-type {\n",
              "        vertical-align: middle;\n",
              "    }\n",
              "\n",
              "    .dataframe tbody tr th {\n",
              "        vertical-align: top;\n",
              "    }\n",
              "\n",
              "    .dataframe thead th {\n",
              "        text-align: right;\n",
              "    }\n",
              "</style>\n",
              "<table border=\"1\" class=\"dataframe\">\n",
              "  <thead>\n",
              "    <tr style=\"text-align: right;\">\n",
              "      <th></th>\n",
              "      <th>Open</th>\n",
              "      <th>High</th>\n",
              "      <th>Low</th>\n",
              "      <th>Close</th>\n",
              "      <th>Adj Close</th>\n",
              "      <th>Volume</th>\n",
              "      <th>Numbers</th>\n",
              "    </tr>\n",
              "    <tr>\n",
              "      <th>Date</th>\n",
              "      <th></th>\n",
              "      <th></th>\n",
              "      <th></th>\n",
              "      <th></th>\n",
              "      <th></th>\n",
              "      <th></th>\n",
              "      <th></th>\n",
              "    </tr>\n",
              "  </thead>\n",
              "  <tbody>\n",
              "    <tr>\n",
              "      <th>2022-04-22</th>\n",
              "      <td>25.400000</td>\n",
              "      <td>25.610001</td>\n",
              "      <td>24.700001</td>\n",
              "      <td>25.020000</td>\n",
              "      <td>25.020000</td>\n",
              "      <td>11626100</td>\n",
              "      <td>244</td>\n",
              "    </tr>\n",
              "    <tr>\n",
              "      <th>2022-04-25</th>\n",
              "      <td>24.670000</td>\n",
              "      <td>25.160000</td>\n",
              "      <td>24.320000</td>\n",
              "      <td>25.000000</td>\n",
              "      <td>25.000000</td>\n",
              "      <td>10646500</td>\n",
              "      <td>245</td>\n",
              "    </tr>\n",
              "    <tr>\n",
              "      <th>2022-04-26</th>\n",
              "      <td>24.870001</td>\n",
              "      <td>25.750000</td>\n",
              "      <td>24.270000</td>\n",
              "      <td>24.459999</td>\n",
              "      <td>24.459999</td>\n",
              "      <td>15031700</td>\n",
              "      <td>246</td>\n",
              "    </tr>\n",
              "    <tr>\n",
              "      <th>2022-04-27</th>\n",
              "      <td>24.900000</td>\n",
              "      <td>25.320000</td>\n",
              "      <td>24.160000</td>\n",
              "      <td>24.530001</td>\n",
              "      <td>24.530001</td>\n",
              "      <td>25730500</td>\n",
              "      <td>247</td>\n",
              "    </tr>\n",
              "    <tr>\n",
              "      <th>2022-04-28</th>\n",
              "      <td>0.000000</td>\n",
              "      <td>0.000000</td>\n",
              "      <td>0.000000</td>\n",
              "      <td>24.389999</td>\n",
              "      <td>24.389999</td>\n",
              "      <td>0</td>\n",
              "      <td>248</td>\n",
              "    </tr>\n",
              "  </tbody>\n",
              "</table>\n",
              "</div>\n",
              "      <button class=\"colab-df-convert\" onclick=\"convertToInteractive('df-48f95652-ad7c-40ae-be9d-72804bb825f9')\"\n",
              "              title=\"Convert this dataframe to an interactive table.\"\n",
              "              style=\"display:none;\">\n",
              "        \n",
              "  <svg xmlns=\"http://www.w3.org/2000/svg\" height=\"24px\"viewBox=\"0 0 24 24\"\n",
              "       width=\"24px\">\n",
              "    <path d=\"M0 0h24v24H0V0z\" fill=\"none\"/>\n",
              "    <path d=\"M18.56 5.44l.94 2.06.94-2.06 2.06-.94-2.06-.94-.94-2.06-.94 2.06-2.06.94zm-11 1L8.5 8.5l.94-2.06 2.06-.94-2.06-.94L8.5 2.5l-.94 2.06-2.06.94zm10 10l.94 2.06.94-2.06 2.06-.94-2.06-.94-.94-2.06-.94 2.06-2.06.94z\"/><path d=\"M17.41 7.96l-1.37-1.37c-.4-.4-.92-.59-1.43-.59-.52 0-1.04.2-1.43.59L10.3 9.45l-7.72 7.72c-.78.78-.78 2.05 0 2.83L4 21.41c.39.39.9.59 1.41.59.51 0 1.02-.2 1.41-.59l7.78-7.78 2.81-2.81c.8-.78.8-2.07 0-2.86zM5.41 20L4 18.59l7.72-7.72 1.47 1.35L5.41 20z\"/>\n",
              "  </svg>\n",
              "      </button>\n",
              "      \n",
              "  <style>\n",
              "    .colab-df-container {\n",
              "      display:flex;\n",
              "      flex-wrap:wrap;\n",
              "      gap: 12px;\n",
              "    }\n",
              "\n",
              "    .colab-df-convert {\n",
              "      background-color: #E8F0FE;\n",
              "      border: none;\n",
              "      border-radius: 50%;\n",
              "      cursor: pointer;\n",
              "      display: none;\n",
              "      fill: #1967D2;\n",
              "      height: 32px;\n",
              "      padding: 0 0 0 0;\n",
              "      width: 32px;\n",
              "    }\n",
              "\n",
              "    .colab-df-convert:hover {\n",
              "      background-color: #E2EBFA;\n",
              "      box-shadow: 0px 1px 2px rgba(60, 64, 67, 0.3), 0px 1px 3px 1px rgba(60, 64, 67, 0.15);\n",
              "      fill: #174EA6;\n",
              "    }\n",
              "\n",
              "    [theme=dark] .colab-df-convert {\n",
              "      background-color: #3B4455;\n",
              "      fill: #D2E3FC;\n",
              "    }\n",
              "\n",
              "    [theme=dark] .colab-df-convert:hover {\n",
              "      background-color: #434B5C;\n",
              "      box-shadow: 0px 1px 3px 1px rgba(0, 0, 0, 0.15);\n",
              "      filter: drop-shadow(0px 1px 2px rgba(0, 0, 0, 0.3));\n",
              "      fill: #FFFFFF;\n",
              "    }\n",
              "  </style>\n",
              "\n",
              "      <script>\n",
              "        const buttonEl =\n",
              "          document.querySelector('#df-48f95652-ad7c-40ae-be9d-72804bb825f9 button.colab-df-convert');\n",
              "        buttonEl.style.display =\n",
              "          google.colab.kernel.accessAllowed ? 'block' : 'none';\n",
              "\n",
              "        async function convertToInteractive(key) {\n",
              "          const element = document.querySelector('#df-48f95652-ad7c-40ae-be9d-72804bb825f9');\n",
              "          const dataTable =\n",
              "            await google.colab.kernel.invokeFunction('convertToInteractive',\n",
              "                                                     [key], {});\n",
              "          if (!dataTable) return;\n",
              "\n",
              "          const docLinkHtml = 'Like what you see? Visit the ' +\n",
              "            '<a target=\"_blank\" href=https://colab.research.google.com/notebooks/data_table.ipynb>data table notebook</a>'\n",
              "            + ' to learn more about interactive tables.';\n",
              "          element.innerHTML = '';\n",
              "          dataTable['output_type'] = 'display_data';\n",
              "          await google.colab.output.renderOutput(dataTable, element);\n",
              "          const docLink = document.createElement('div');\n",
              "          docLink.innerHTML = docLinkHtml;\n",
              "          element.appendChild(docLink);\n",
              "        }\n",
              "      </script>\n",
              "    </div>\n",
              "  </div>\n",
              "  "
            ]
          },
          "metadata": {},
          "execution_count": 18
        }
      ]
    },
    {
      "cell_type": "markdown",
      "source": [
        "> This was just a step to be done, so now I can format the data properly to int into our model for training."
      ],
      "metadata": {
        "id": "ARbpkfseUHvw"
      }
    },
    {
      "cell_type": "code",
      "source": [
        "# Store the 'Close' price as an array in a variable called 'y'\n",
        "y = df2['Close'].values"
      ],
      "metadata": {
        "id": "H5BwF5iuURSY"
      },
      "execution_count": null,
      "outputs": []
    },
    {
      "cell_type": "code",
      "source": [
        "# Create and train the model\n",
        "lin_model = LinearRegression().fit(X,y)"
      ],
      "metadata": {
        "id": "0HP2-HTeWdgD"
      },
      "execution_count": null,
      "outputs": []
    },
    {
      "cell_type": "markdown",
      "source": [
        "> `fit()` it is just another term for a train method."
      ],
      "metadata": {
        "id": "H2BK2TLRYsCQ"
      }
    },
    {
      "cell_type": "code",
      "source": [
        "print('Intercept:',lin_model.intercept_)\n",
        "print('Slope:',lin_model.coef_)"
      ],
      "metadata": {
        "colab": {
          "base_uri": "https://localhost:8080/"
        },
        "id": "SFT75dApY1rw",
        "outputId": "db6f9e65-65d5-4e24-cb61-aa2955ce7486"
      },
      "execution_count": null,
      "outputs": [
        {
          "output_type": "stream",
          "name": "stdout",
          "text": [
            "Intercept: 42.02249879431325\n",
            "Slope: [-0.08074416]\n"
          ]
        }
      ]
    },
    {
      "cell_type": "markdown",
      "source": [
        "Equation of the line:\n",
        "\n",
        "> $y = m.x +b$\n",
        "\n",
        "Where:\n",
        "\n",
        "* m : Slope of the line\n",
        "\n",
        "* b : Intercept of the line"
      ],
      "metadata": {
        "id": "yLvmPMJXKlT5"
      }
    },
    {
      "cell_type": "code",
      "source": [
        "# Prepare the data for visualization\n",
        "# get the predicted price from the model and store them into a variable called y_pred\n",
        "# Equation of the line y = m*x + b\n",
        "y_pred = lin_model.coef_ * X + lin_model.intercept_"
      ],
      "metadata": {
        "id": "ZpBwff8jMTEK"
      },
      "execution_count": null,
      "outputs": []
    },
    {
      "cell_type": "code",
      "source": [
        "# Store the predict values in a new column called Pred\n",
        "df2['Pred'] = y_pred"
      ],
      "metadata": {
        "id": "osmSpE7YNRZW"
      },
      "execution_count": null,
      "outputs": []
    },
    {
      "cell_type": "code",
      "source": [
        "# Plot the data\n",
        "fig, ax = plt.subplots(figsize =(9,6),dpi = 72)\n",
        "df2[\"Pred\"].plot()\n",
        "df2['Close'].plot()\n",
        "plt.title('Close Price History')\n",
        "\n",
        "plt.show()"
      ],
      "metadata": {
        "colab": {
          "base_uri": "https://localhost:8080/",
          "height": 392
        },
        "id": "LNFI3hRDNcsD",
        "outputId": "3821a4e4-808f-4350-c773-e4830dfae47e"
      },
      "execution_count": null,
      "outputs": [
        {
          "output_type": "display_data",
          "data": {
            "text/plain": [
              "<Figure size 648x432 with 1 Axes>"
            ],
            "image/png": "[encoded data removed]"
          },
          "metadata": {
            "needs_background": "light"
          }
        }
      ]
    },
    {
      "cell_type": "markdown",
      "source": [
        "## First impression\n",
        "\n",
        "As the chart shows, the values of the column `df2['Close']` (red line) has high variance and the reason for that is the variantion of the price, maybe some news and the results of the company.\n",
        "\n",
        "We can interpret that because the red line has a lot of points that had a good amount of distance from the blue line, which is the column `df2['Pred']` meaning a high variance. To determine if the result is good or bad, we have the metrics of the model, these metrics help us to see the performance of the model and for each type of machine learning model or algorithm we have the metrics whose is better to show the accuracy of the model. "
      ],
      "metadata": {
        "id": "NamHHJ4QGYSP"
      }
    },
    {
      "cell_type": "markdown",
      "source": [
        "### R² (coefficiente of determination):\n",
        "\n",
        "The coefficiente of determination or R² score helps to show the model's goodness of fit or how well the model fits the data right the way.\n",
        "\n",
        "The R2 score is a very important metric that is used to evaluate the performance of a regression-based machine learning model. It is pronounced as R squared and is also known as the coefficient of determination. It works by measuring the amount of variance in the predictions explained by the dataset. Simply put, it is the difference between the samples in the dataset and the predictions made by the model.\n",
        "\n",
        "**Source**: [R² score](https://thecleverprogrammer.com/2021/06/22/r2-score-in-machine-learning/)"
      ],
      "metadata": {
        "id": "RPrJ1giMZ92t"
      }
    },
    {
      "cell_type": "code",
      "source": [
        "# How good is the model?\n",
        "r2_score(df2['Close'],df2['Pred'])"
      ],
      "metadata": {
        "colab": {
          "base_uri": "https://localhost:8080/"
        },
        "id": "ED7bmizTa0Tc",
        "outputId": "9e47f2b4-6dff-4ed6-f210-21a1f1a1fe28"
      },
      "execution_count": null,
      "outputs": [
        {
          "output_type": "execute_result",
          "data": {
            "text/plain": [
              "0.8483346350287609"
            ]
          },
          "metadata": {},
          "execution_count": 27
        }
      ]
    },
    {
      "cell_type": "code",
      "source": [
        "# Show the possible price fot the nest day based on the model\n",
        "lin_model.coef_*len(df2) + 1 + lin_model.intercept_"
      ],
      "metadata": {
        "colab": {
          "base_uri": "https://localhost:8080/"
        },
        "id": "7KtS56iKbecL",
        "outputId": "ae89e5e8-d297-454d-b2ca-3b1b580354e0"
      },
      "execution_count": null,
      "outputs": [
        {
          "output_type": "execute_result",
          "data": {
            "text/plain": [
              "array([22.91720179])"
            ]
          },
          "metadata": {},
          "execution_count": 28
        }
      ]
    },
    {
      "cell_type": "markdown",
      "source": [
        "## Conclusion:\n",
        "\n",
        "The model works pretty well, as the `r2_score` result, shows the model as an 84% of probability being right at the future price of the stock LRN3. \n"
      ],
      "metadata": {
        "id": "eF-_ZnmycEpe"
      }
    }
  ]
}