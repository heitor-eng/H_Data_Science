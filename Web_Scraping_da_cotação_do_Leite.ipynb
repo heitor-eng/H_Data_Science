{
  "nbformat": 4,
  "nbformat_minor": 0,
  "metadata": {
    "colab": {
      "name": "Web Scraping da cotação do Leite.ipynb",
      "provenance": [],
      "authorship_tag": "ABX9TyP+uflbQqj/bdajl9vI6k/G",
      "include_colab_link": true
    },
    "kernelspec": {
      "name": "python3",
      "display_name": "Python 3"
    },
    "language_info": {
      "name": "python"
    }
  },
  "cells": [
    {
      "cell_type": "markdown",
      "metadata": {
        "id": "view-in-github",
        "colab_type": "text"
      },
      "source": [
        "<a href=\"https://colab.research.google.com/github/heitor-eng/H_Data_Science/blob/master/Web_Scraping_da_cota%C3%A7%C3%A3o_do_Leite.ipynb\" target=\"_parent\"><img src=\"https://colab.research.google.com/assets/colab-badge.svg\" alt=\"Open In Colab\"/></a>"
      ]
    },
    {
      "cell_type": "markdown",
      "metadata": {
        "id": "JVi_shfbEM0u"
      },
      "source": [
        "#Extração da tabela da cotação do leite de site.\n",
        "\n",
        "Esse é um trabalho inspirado em uma das tarefas de um processo de seletivo em que participei. O processo seletivo em si era somente a extração de um dado específico de um site qualquer, porém nesse trabalho resolvi ao invés de importar somente o dado, porque não importar uma tabela ou tabelas e fazer um tratamento nos dados. O passo a passo da tarefa que será apresentada aqui:\n",
        "\n",
        "* Script em Python para extrair a tabela com o preço do leite do website: [Notícias Agrícolas](https://www.noticiasagricolas.com.br/cotacoes/leite/leite-precos-ao-produtor-cepea-rs-litro),\n",
        "\n",
        "* Salvar os arquivos em `.xlsx` ou em `.csv`,\n",
        "\n",
        "* Tratamento dos dados na tabela.\n",
        "\n"
      ]
    },
    {
      "cell_type": "markdown",
      "metadata": {
        "id": "Jix1p_uBEsBT"
      },
      "source": [
        "## Bibliotecas Utilizadas:\n",
        "\n",
        "* `requests`: biblioteca para execução das requisições HTTP;\n",
        "* `BeautifulSoup`: biblioteca para a extração de dados em arquivos HTMLe XML;\n",
        "* `Pandas`: biblioteca para armazenar, limpar e salvar os dados em tabela.\n",
        "\n",
        "Procedimento de trabalho: a biblioteca `request` faz o processo de executar requesições GET e obter o código HTML da página, com isso feito utilizo a `BeautifulSoup` para extrair os dados e por último usar o `Pandas` para trabalhar com esses dados em forma de DataFrame."
      ]
    },
    {
      "cell_type": "code",
      "metadata": {
        "id": "oIjjua1iAwj_"
      },
      "source": [
        "#importando as bibliotecas\n",
        "import pandas as pd\n",
        "import requests\n",
        "from bs4 import BeautifulSoup"
      ],
      "execution_count": null,
      "outputs": []
    },
    {
      "cell_type": "markdown",
      "metadata": {
        "id": "6lxNZFT6MCmr"
      },
      "source": [
        "Nesta  etapa, o procedimento é fazer uma requisição GET da página, consigo fazer isso chamando o método `requests.get` com a URL da pagina como argumento.\n",
        "Esse método retorna um objeto Response que contém várias informações das quais utilizo o `status_code` para verificar se a requisição retorna um status 200, indicando que foi bem sucedida, e o `content` para acessar o código da página HTML. "
      ]
    },
    {
      "cell_type": "code",
      "metadata": {
        "colab": {
          "base_uri": "https://localhost:8080/"
        },
        "id": "vI66vnh_M0Wg",
        "outputId": "abcf5b4c-f001-4a71-d3be-245c8eac11e5"
      },
      "source": [
        "# Execução do Request Get para obter o conteúdo da pasta \n",
        "req = requests.get('https://www.noticiasagricolas.com.br/cotacoes/leite/leite-precos-ao-produtor-cepea-rs-litro')\n",
        "if req.status_code == 200:\n",
        "    print('Requisição bem sucedida!')\n",
        "    content = req.content"
      ],
      "execution_count": null,
      "outputs": [
        {
          "output_type": "stream",
          "text": [
            "Requisição bem sucedida!\n"
          ],
          "name": "stdout"
        }
      ]
    },
    {
      "cell_type": "markdown",
      "metadata": {
        "id": "ACG7BVvkO2Y9"
      },
      "source": [
        "Com o HTML da página agora consigo usar a biblioteca `BeautifulSoup` para extrair a tabela. Feito isso é necessário criar um objeto que irá salvar o documento de maneira estruturada de acordo com as tags e depois posso acessar o elemento necessário utilizando `find` ou `find_all`, passando como argumento o nome da tag que neste caso é `table`."
      ]
    },
    {
      "cell_type": "code",
      "metadata": {
        "id": "1HXtfFK7eLpe"
      },
      "source": [
        "# objeto BeautifulSoup\n",
        "soup = BeautifulSoup(content, 'html.parser')\n",
        "\n",
        "# método find_all\n",
        "table = soup.find_all(name='table')\n"
      ],
      "execution_count": null,
      "outputs": []
    },
    {
      "cell_type": "markdown",
      "metadata": {
        "id": "DmDxC5Q3fTZ7"
      },
      "source": [
        "Com o código HTML, das tabelas em mãos, chamo a biblioteca `Pandas` para carregar esses dados em um DataFrame através do método `read_html` e assim tenho o DataFrame das tabelas. Porém, primeiro tenho que converter a variável `table` em uma *string* , pois até agora é um **objeto** do `BeautifulSoup`, e com isso feito agora eu tenho uma lista de Data Frames, ou seja, cada tabela que está nesse site virou uma lista de DataFrames isso é uma resposta do método `BeautifulSoup` para essa extração e portanto se acessar a posição 0, ou seja, se quiser obter somente um tabela é necessário digitar `df[0]` ao invés de `df` ou pode usar o método `find()` ao invés do `find_all()`."
      ]
    },
    {
      "cell_type": "code",
      "metadata": {
        "colab": {
          "base_uri": "https://localhost:8080/",
          "height": 390
        },
        "id": "FamrbWq0h5Jg",
        "outputId": "0b29d3fe-a3cf-4d4a-ae68-ea26f4576f97"
      },
      "source": [
        "# lendo como um DataFrame\n",
        "table_str = str(table)\n",
        "df = pd.read_html(table_str)\n",
        "\n",
        "df[0]\n"
      ],
      "execution_count": null,
      "outputs": [
        {
          "output_type": "execute_result",
          "data": {
            "text/html": [
              "<div>\n",
              "<style scoped>\n",
              "    .dataframe tbody tr th:only-of-type {\n",
              "        vertical-align: middle;\n",
              "    }\n",
              "\n",
              "    .dataframe tbody tr th {\n",
              "        vertical-align: top;\n",
              "    }\n",
              "\n",
              "    .dataframe thead th {\n",
              "        text-align: right;\n",
              "    }\n",
              "</style>\n",
              "<table border=\"1\" class=\"dataframe\">\n",
              "  <thead>\n",
              "    <tr style=\"text-align: right;\">\n",
              "      <th></th>\n",
              "      <th>Estados</th>\n",
              "      <th>Preço (R$/Litro)</th>\n",
              "      <th>Variação (%)</th>\n",
              "    </tr>\n",
              "  </thead>\n",
              "  <tbody>\n",
              "    <tr>\n",
              "      <th>0</th>\n",
              "      <td>MG</td>\n",
              "      <td>20550.0</td>\n",
              "      <td>+2,37</td>\n",
              "    </tr>\n",
              "    <tr>\n",
              "      <th>1</th>\n",
              "      <td>RS</td>\n",
              "      <td>19413.0</td>\n",
              "      <td>+1,47</td>\n",
              "    </tr>\n",
              "    <tr>\n",
              "      <th>2</th>\n",
              "      <td>SP</td>\n",
              "      <td>20438.0</td>\n",
              "      <td>+2,85</td>\n",
              "    </tr>\n",
              "    <tr>\n",
              "      <th>3</th>\n",
              "      <td>PR</td>\n",
              "      <td>19915.0</td>\n",
              "      <td>+3,68</td>\n",
              "    </tr>\n",
              "    <tr>\n",
              "      <th>4</th>\n",
              "      <td>GO</td>\n",
              "      <td>20651.0</td>\n",
              "      <td>+4,20</td>\n",
              "    </tr>\n",
              "    <tr>\n",
              "      <th>5</th>\n",
              "      <td>BA</td>\n",
              "      <td>18802.0</td>\n",
              "      <td>-008</td>\n",
              "    </tr>\n",
              "    <tr>\n",
              "      <th>6</th>\n",
              "      <td>SC</td>\n",
              "      <td>20218.0</td>\n",
              "      <td>+3,07</td>\n",
              "    </tr>\n",
              "    <tr>\n",
              "      <th>7</th>\n",
              "      <td>MS</td>\n",
              "      <td>17641.0</td>\n",
              "      <td>+4,34</td>\n",
              "    </tr>\n",
              "    <tr>\n",
              "      <th>8</th>\n",
              "      <td>ES</td>\n",
              "      <td>19084.0</td>\n",
              "      <td>+2,29</td>\n",
              "    </tr>\n",
              "    <tr>\n",
              "      <th>9</th>\n",
              "      <td>Brasil</td>\n",
              "      <td>20364.0</td>\n",
              "      <td>+2,66</td>\n",
              "    </tr>\n",
              "    <tr>\n",
              "      <th>10</th>\n",
              "      <td>Referência: Maio/21</td>\n",
              "      <td>NaN</td>\n",
              "      <td>NaN</td>\n",
              "    </tr>\n",
              "  </tbody>\n",
              "</table>\n",
              "</div>"
            ],
            "text/plain": [
              "                Estados  Preço (R$/Litro) Variação (%)\n",
              "0                    MG           20550.0        +2,37\n",
              "1                    RS           19413.0        +1,47\n",
              "2                    SP           20438.0        +2,85\n",
              "3                    PR           19915.0        +3,68\n",
              "4                    GO           20651.0        +4,20\n",
              "5                    BA           18802.0         -008\n",
              "6                    SC           20218.0        +3,07\n",
              "7                    MS           17641.0        +4,34\n",
              "8                    ES           19084.0        +2,29\n",
              "9                Brasil           20364.0        +2,66\n",
              "10  Referência: Maio/21               NaN          NaN"
            ]
          },
          "metadata": {
            "tags": []
          },
          "execution_count": 4
        }
      ]
    },
    {
      "cell_type": "markdown",
      "metadata": {
        "id": "YyU6Jc6OvtTR"
      },
      "source": [
        "Com isso feito a gente já só precisa exportar essa lista de Data Frames, para os formato `xlsx` e em `csv`. Fazendo isso a gente consegue trabalhar no *dataset*, como é mostrado no exemplo a seguir. "
      ]
    },
    {
      "cell_type": "code",
      "metadata": {
        "id": "2ur7O-FZqB-c"
      },
      "source": [
        "# exportando a primeira tabela para o excel\n",
        "df[0].to_excel('arquivo1.xlsx')"
      ],
      "execution_count": null,
      "outputs": []
    },
    {
      "cell_type": "code",
      "metadata": {
        "id": "lPsrVkE8uNPZ"
      },
      "source": [
        "# exportando para csv\n",
        "df[0].to_csv(\"Tabela1.csv\")"
      ],
      "execution_count": null,
      "outputs": []
    },
    {
      "cell_type": "code",
      "metadata": {
        "colab": {
          "base_uri": "https://localhost:8080/",
          "height": 390
        },
        "id": "cu4Wdfj3pGJ7",
        "outputId": "8c1d578a-1304-42db-804f-6af456d7c7b4"
      },
      "source": [
        "df = pd.read_csv(\"/content/Tabela1.csv\")\n",
        "df"
      ],
      "execution_count": 9,
      "outputs": [
        {
          "output_type": "execute_result",
          "data": {
            "text/html": [
              "<div>\n",
              "<style scoped>\n",
              "    .dataframe tbody tr th:only-of-type {\n",
              "        vertical-align: middle;\n",
              "    }\n",
              "\n",
              "    .dataframe tbody tr th {\n",
              "        vertical-align: top;\n",
              "    }\n",
              "\n",
              "    .dataframe thead th {\n",
              "        text-align: right;\n",
              "    }\n",
              "</style>\n",
              "<table border=\"1\" class=\"dataframe\">\n",
              "  <thead>\n",
              "    <tr style=\"text-align: right;\">\n",
              "      <th></th>\n",
              "      <th>Unnamed: 0</th>\n",
              "      <th>Estados</th>\n",
              "      <th>Preço (R$/Litro)</th>\n",
              "      <th>Variação (%)</th>\n",
              "    </tr>\n",
              "  </thead>\n",
              "  <tbody>\n",
              "    <tr>\n",
              "      <th>0</th>\n",
              "      <td>0</td>\n",
              "      <td>MG</td>\n",
              "      <td>20550.0</td>\n",
              "      <td>+2,37</td>\n",
              "    </tr>\n",
              "    <tr>\n",
              "      <th>1</th>\n",
              "      <td>1</td>\n",
              "      <td>RS</td>\n",
              "      <td>19413.0</td>\n",
              "      <td>+1,47</td>\n",
              "    </tr>\n",
              "    <tr>\n",
              "      <th>2</th>\n",
              "      <td>2</td>\n",
              "      <td>SP</td>\n",
              "      <td>20438.0</td>\n",
              "      <td>+2,85</td>\n",
              "    </tr>\n",
              "    <tr>\n",
              "      <th>3</th>\n",
              "      <td>3</td>\n",
              "      <td>PR</td>\n",
              "      <td>19915.0</td>\n",
              "      <td>+3,68</td>\n",
              "    </tr>\n",
              "    <tr>\n",
              "      <th>4</th>\n",
              "      <td>4</td>\n",
              "      <td>GO</td>\n",
              "      <td>20651.0</td>\n",
              "      <td>+4,20</td>\n",
              "    </tr>\n",
              "    <tr>\n",
              "      <th>5</th>\n",
              "      <td>5</td>\n",
              "      <td>BA</td>\n",
              "      <td>18802.0</td>\n",
              "      <td>-008</td>\n",
              "    </tr>\n",
              "    <tr>\n",
              "      <th>6</th>\n",
              "      <td>6</td>\n",
              "      <td>SC</td>\n",
              "      <td>20218.0</td>\n",
              "      <td>+3,07</td>\n",
              "    </tr>\n",
              "    <tr>\n",
              "      <th>7</th>\n",
              "      <td>7</td>\n",
              "      <td>MS</td>\n",
              "      <td>17641.0</td>\n",
              "      <td>+4,34</td>\n",
              "    </tr>\n",
              "    <tr>\n",
              "      <th>8</th>\n",
              "      <td>8</td>\n",
              "      <td>ES</td>\n",
              "      <td>19084.0</td>\n",
              "      <td>+2,29</td>\n",
              "    </tr>\n",
              "    <tr>\n",
              "      <th>9</th>\n",
              "      <td>9</td>\n",
              "      <td>Brasil</td>\n",
              "      <td>20364.0</td>\n",
              "      <td>+2,66</td>\n",
              "    </tr>\n",
              "    <tr>\n",
              "      <th>10</th>\n",
              "      <td>10</td>\n",
              "      <td>Referência: Maio/21</td>\n",
              "      <td>NaN</td>\n",
              "      <td>NaN</td>\n",
              "    </tr>\n",
              "  </tbody>\n",
              "</table>\n",
              "</div>"
            ],
            "text/plain": [
              "    Unnamed: 0              Estados  Preço (R$/Litro) Variação (%)\n",
              "0            0                   MG           20550.0        +2,37\n",
              "1            1                   RS           19413.0        +1,47\n",
              "2            2                   SP           20438.0        +2,85\n",
              "3            3                   PR           19915.0        +3,68\n",
              "4            4                   GO           20651.0        +4,20\n",
              "5            5                   BA           18802.0         -008\n",
              "6            6                   SC           20218.0        +3,07\n",
              "7            7                   MS           17641.0        +4,34\n",
              "8            8                   ES           19084.0        +2,29\n",
              "9            9               Brasil           20364.0        +2,66\n",
              "10          10  Referência: Maio/21               NaN          NaN"
            ]
          },
          "metadata": {
            "tags": []
          },
          "execution_count": 9
        }
      ]
    },
    {
      "cell_type": "markdown",
      "metadata": {
        "id": "C0SIr5f8qxD3"
      },
      "source": [
        "Como é possível verificar temos 3 problemas nesse DataFrame, o primeiro é a coluna **Unnamed = 0** que nada mais é do que a coluna índice do DataFrame, depois remover a linha 10 e por último arrumar as grandezas dos preços da coluna **Preço (R$/Litro)** porque o preço do leite não veio com os pontos ou vírgulas no lugar certo nos informando uma ordem de preço errado. Esses serão os 3 tratamentos vão ser feitos nessa tabela."
      ]
    },
    {
      "cell_type": "code",
      "metadata": {
        "colab": {
          "base_uri": "https://localhost:8080/",
          "height": 359
        },
        "id": "6itSNS48ujoK",
        "outputId": "9ed52c55-0e63-488c-ab71-21b7e2eae0ad"
      },
      "source": [
        "# tirando a coluna índice\n",
        "df_1 = pd.read_csv(\"/content/Tabela1.csv\",index_col=0)\n",
        "\n",
        "# removendo a linha 10\n",
        "df_1 = df_1.drop([10])\n",
        "\n",
        "# dividindo a coluna Preço por 10000 para ter o verdadeiro valor correto\n",
        "df_1[\"Preço (R$/Litro)\"] = df_1[\"Preço (R$/Litro)\"].apply(lambda x:x / 10000)\n",
        "df_1\n",
        "\n",
        "df_1"
      ],
      "execution_count": 19,
      "outputs": [
        {
          "output_type": "execute_result",
          "data": {
            "text/html": [
              "<div>\n",
              "<style scoped>\n",
              "    .dataframe tbody tr th:only-of-type {\n",
              "        vertical-align: middle;\n",
              "    }\n",
              "\n",
              "    .dataframe tbody tr th {\n",
              "        vertical-align: top;\n",
              "    }\n",
              "\n",
              "    .dataframe thead th {\n",
              "        text-align: right;\n",
              "    }\n",
              "</style>\n",
              "<table border=\"1\" class=\"dataframe\">\n",
              "  <thead>\n",
              "    <tr style=\"text-align: right;\">\n",
              "      <th></th>\n",
              "      <th>Estados</th>\n",
              "      <th>Preço (R$/Litro)</th>\n",
              "      <th>Variação (%)</th>\n",
              "    </tr>\n",
              "  </thead>\n",
              "  <tbody>\n",
              "    <tr>\n",
              "      <th>0</th>\n",
              "      <td>MG</td>\n",
              "      <td>2.0550</td>\n",
              "      <td>+2,37</td>\n",
              "    </tr>\n",
              "    <tr>\n",
              "      <th>1</th>\n",
              "      <td>RS</td>\n",
              "      <td>1.9413</td>\n",
              "      <td>+1,47</td>\n",
              "    </tr>\n",
              "    <tr>\n",
              "      <th>2</th>\n",
              "      <td>SP</td>\n",
              "      <td>2.0438</td>\n",
              "      <td>+2,85</td>\n",
              "    </tr>\n",
              "    <tr>\n",
              "      <th>3</th>\n",
              "      <td>PR</td>\n",
              "      <td>1.9915</td>\n",
              "      <td>+3,68</td>\n",
              "    </tr>\n",
              "    <tr>\n",
              "      <th>4</th>\n",
              "      <td>GO</td>\n",
              "      <td>2.0651</td>\n",
              "      <td>+4,20</td>\n",
              "    </tr>\n",
              "    <tr>\n",
              "      <th>5</th>\n",
              "      <td>BA</td>\n",
              "      <td>1.8802</td>\n",
              "      <td>-008</td>\n",
              "    </tr>\n",
              "    <tr>\n",
              "      <th>6</th>\n",
              "      <td>SC</td>\n",
              "      <td>2.0218</td>\n",
              "      <td>+3,07</td>\n",
              "    </tr>\n",
              "    <tr>\n",
              "      <th>7</th>\n",
              "      <td>MS</td>\n",
              "      <td>1.7641</td>\n",
              "      <td>+4,34</td>\n",
              "    </tr>\n",
              "    <tr>\n",
              "      <th>8</th>\n",
              "      <td>ES</td>\n",
              "      <td>1.9084</td>\n",
              "      <td>+2,29</td>\n",
              "    </tr>\n",
              "    <tr>\n",
              "      <th>9</th>\n",
              "      <td>Brasil</td>\n",
              "      <td>2.0364</td>\n",
              "      <td>+2,66</td>\n",
              "    </tr>\n",
              "  </tbody>\n",
              "</table>\n",
              "</div>"
            ],
            "text/plain": [
              "  Estados  Preço (R$/Litro) Variação (%)\n",
              "0      MG            2.0550        +2,37\n",
              "1      RS            1.9413        +1,47\n",
              "2      SP            2.0438        +2,85\n",
              "3      PR            1.9915        +3,68\n",
              "4      GO            2.0651        +4,20\n",
              "5      BA            1.8802         -008\n",
              "6      SC            2.0218        +3,07\n",
              "7      MS            1.7641        +4,34\n",
              "8      ES            1.9084        +2,29\n",
              "9  Brasil            2.0364        +2,66"
            ]
          },
          "metadata": {
            "tags": []
          },
          "execution_count": 19
        }
      ]
    },
    {
      "cell_type": "markdown",
      "metadata": {
        "id": "krU4huVApYsn"
      },
      "source": [
        "Com isso temos o tratamento dos dados do DataFrame feito e pronto para montar gráficos ou analises."
      ]
    }
  ]
}